{
 "cells": [
  {
   "cell_type": "code",
   "execution_count": 1,
   "id": "0a0cc45b-ecf5-4848-a20b-bd671f78b67d",
   "metadata": {
    "execution": {
     "iopub.execute_input": "2023-04-21T21:06:04.451195Z",
     "iopub.status.busy": "2023-04-21T21:06:04.451017Z",
     "iopub.status.idle": "2023-04-21T21:06:20.510066Z",
     "shell.execute_reply": "2023-04-21T21:06:20.509415Z",
     "shell.execute_reply.started": "2023-04-21T21:06:04.451175Z"
    }
   },
   "outputs": [
    {
     "name": "stdout",
     "output_type": "stream",
     "text": [
      "\u001b[33mWARNING: Running pip as the 'root' user can result in broken permissions and conflicting behaviour with the system package manager. It is recommended to use a virtual environment instead: https://pip.pypa.io/warnings/venv\u001b[0m\u001b[33m\n",
      "\u001b[0mNote: you may need to restart the kernel to use updated packages.\n"
     ]
    }
   ],
   "source": [
    "%pip install -q matplotlib networkx pandas torchinfo\n",
    "%load_ext autoreload\n",
    "%autoreload 2"
   ]
  },
  {
   "cell_type": "code",
   "execution_count": 2,
   "id": "6a471c24-3628-414c-846a-759abe26d932",
   "metadata": {
    "execution": {
     "iopub.execute_input": "2023-04-21T21:06:20.511276Z",
     "iopub.status.busy": "2023-04-21T21:06:20.511100Z",
     "iopub.status.idle": "2023-04-21T21:06:25.325003Z",
     "shell.execute_reply": "2023-04-21T21:06:25.324069Z",
     "shell.execute_reply.started": "2023-04-21T21:06:20.511256Z"
    }
   },
   "outputs": [],
   "source": [
    "import functions\n",
    "import matplotlib.pyplot as plt\n",
    "import torch\n",
    "\n",
    "from functools import partial"
   ]
  },
  {
   "cell_type": "code",
   "execution_count": 3,
   "id": "a4484948-09d5-4d8b-8242-9da7cbb7ea12",
   "metadata": {
    "execution": {
     "iopub.execute_input": "2023-04-21T21:06:25.332503Z",
     "iopub.status.busy": "2023-04-21T21:06:25.332323Z",
     "iopub.status.idle": "2023-04-21T22:42:59.908221Z",
     "shell.execute_reply": "2023-04-21T22:42:59.907249Z",
     "shell.execute_reply.started": "2023-04-21T21:06:25.332485Z"
    }
   },
   "outputs": [
    {
     "name": "stdout",
     "output_type": "stream",
     "text": [
      "Loading dataset into memory...\n"
     ]
    },
    {
     "name": "stderr",
     "output_type": "stream",
     "text": [
      "100%|██████████| 375/375 [00:30<00:00, 12.32it/s]\n",
      "Graph compilation: 100%|██████████| 100/100 [00:23<00:00]\n",
      "Testing: 100%|██████████| 17496/17496 [04:36<00:00, 63.38it/s]\n"
     ]
    },
    {
     "name": "stdout",
     "output_type": "stream",
     "text": [
      "Loading dataset into memory...\n"
     ]
    },
    {
     "name": "stderr",
     "output_type": "stream",
     "text": [
      "100%|██████████| 375/375 [00:26<00:00, 13.98it/s]\n",
      "Graph compilation: 100%|██████████| 100/100 [00:01<00:00]\n",
      "Testing: 100%|██████████| 17496/17496 [04:23<00:00, 66.28it/s]\n"
     ]
    },
    {
     "name": "stdout",
     "output_type": "stream",
     "text": [
      "Loading dataset into memory...\n"
     ]
    },
    {
     "name": "stderr",
     "output_type": "stream",
     "text": [
      "100%|██████████| 375/375 [00:26<00:00, 13.91it/s]\n",
      "Graph compilation: 100%|██████████| 100/100 [00:24<00:00]\n",
      "Testing: 100%|██████████| 17496/17496 [04:25<00:00, 65.88it/s]\n"
     ]
    },
    {
     "name": "stdout",
     "output_type": "stream",
     "text": [
      "Loading dataset into memory...\n"
     ]
    },
    {
     "name": "stderr",
     "output_type": "stream",
     "text": [
      "100%|██████████| 375/375 [00:26<00:00, 13.98it/s]\n",
      "Graph compilation: 100%|██████████| 100/100 [00:01<00:00]\n",
      "Testing: 100%|██████████| 17496/17496 [04:24<00:00, 66.13it/s]\n"
     ]
    },
    {
     "name": "stdout",
     "output_type": "stream",
     "text": [
      "Loading dataset into memory...\n"
     ]
    },
    {
     "name": "stderr",
     "output_type": "stream",
     "text": [
      "100%|██████████| 375/375 [00:27<00:00, 13.86it/s]\n",
      "Graph compilation: 100%|██████████| 100/100 [00:20<00:00]\n",
      "Testing: 100%|██████████| 17496/17496 [04:23<00:00, 66.38it/s]\n"
     ]
    },
    {
     "name": "stdout",
     "output_type": "stream",
     "text": [
      "Loading dataset into memory...\n"
     ]
    },
    {
     "name": "stderr",
     "output_type": "stream",
     "text": [
      "100%|██████████| 375/375 [00:26<00:00, 13.99it/s]\n",
      "Graph compilation: 100%|██████████| 100/100 [00:01<00:00]\n",
      "Testing: 100%|██████████| 17496/17496 [04:21<00:00, 66.80it/s]\n"
     ]
    },
    {
     "name": "stdout",
     "output_type": "stream",
     "text": [
      "Loading dataset into memory...\n"
     ]
    },
    {
     "name": "stderr",
     "output_type": "stream",
     "text": [
      "100%|██████████| 375/375 [00:26<00:00, 14.10it/s]\n",
      "Graph compilation: 100%|██████████| 100/100 [00:01<00:00]\n",
      "Testing: 100%|██████████| 17496/17496 [04:32<00:00, 64.21it/s]\n"
     ]
    },
    {
     "name": "stdout",
     "output_type": "stream",
     "text": [
      "Loading dataset into memory...\n"
     ]
    },
    {
     "name": "stderr",
     "output_type": "stream",
     "text": [
      "100%|██████████| 375/375 [00:27<00:00, 13.70it/s]\n",
      "Graph compilation: 100%|██████████| 100/100 [00:01<00:00]\n",
      "Testing: 100%|██████████| 17496/17496 [04:32<00:00, 64.31it/s]\n"
     ]
    },
    {
     "name": "stdout",
     "output_type": "stream",
     "text": [
      "Loading dataset into memory...\n"
     ]
    },
    {
     "name": "stderr",
     "output_type": "stream",
     "text": [
      "100%|██████████| 375/375 [00:26<00:00, 13.97it/s]\n",
      "Graph compilation: 100%|██████████| 100/100 [00:05<00:00]\n",
      "Testing: 100%|██████████| 17496/17496 [04:21<00:00, 66.91it/s]\n"
     ]
    },
    {
     "name": "stdout",
     "output_type": "stream",
     "text": [
      "Loading dataset into memory...\n"
     ]
    },
    {
     "name": "stderr",
     "output_type": "stream",
     "text": [
      "100%|██████████| 375/375 [00:26<00:00, 13.95it/s]\n",
      "Graph compilation: 100%|██████████| 100/100 [00:06<00:00]\n",
      "Testing: 100%|██████████| 17496/17496 [04:20<00:00, 67.20it/s]\n"
     ]
    },
    {
     "name": "stdout",
     "output_type": "stream",
     "text": [
      "Loading dataset into memory...\n"
     ]
    },
    {
     "name": "stderr",
     "output_type": "stream",
     "text": [
      "100%|██████████| 375/375 [00:26<00:00, 13.99it/s]\n",
      "Graph compilation: 100%|██████████| 100/100 [00:00<00:00]\n",
      "Testing: 100%|██████████| 17496/17496 [04:19<00:00, 67.31it/s]\n"
     ]
    },
    {
     "name": "stdout",
     "output_type": "stream",
     "text": [
      "Loading dataset into memory...\n"
     ]
    },
    {
     "name": "stderr",
     "output_type": "stream",
     "text": [
      "100%|██████████| 375/375 [00:26<00:00, 13.90it/s]\n",
      "Graph compilation: 100%|██████████| 100/100 [00:01<00:00]\n",
      "Testing: 100%|██████████| 17496/17496 [04:26<00:00, 65.59it/s]\n"
     ]
    },
    {
     "name": "stdout",
     "output_type": "stream",
     "text": [
      "Loading dataset into memory...\n"
     ]
    },
    {
     "name": "stderr",
     "output_type": "stream",
     "text": [
      "100%|██████████| 375/375 [00:26<00:00, 14.00it/s]\n",
      "Graph compilation: 100%|██████████| 100/100 [00:25<00:00]\n",
      "Testing: 100%|██████████| 17496/17496 [05:04<00:00, 57.50it/s]\n"
     ]
    },
    {
     "name": "stdout",
     "output_type": "stream",
     "text": [
      "Loading dataset into memory...\n"
     ]
    },
    {
     "name": "stderr",
     "output_type": "stream",
     "text": [
      "100%|██████████| 375/375 [00:27<00:00, 13.85it/s]\n",
      "Graph compilation: 100%|██████████| 100/100 [00:25<00:00]\n",
      "Testing: 100%|██████████| 17496/17496 [05:01<00:00, 57.94it/s]\n"
     ]
    },
    {
     "name": "stdout",
     "output_type": "stream",
     "text": [
      "Loading dataset into memory...\n"
     ]
    },
    {
     "name": "stderr",
     "output_type": "stream",
     "text": [
      "100%|██████████| 375/375 [00:26<00:00, 14.04it/s]\n",
      "Graph compilation: 100%|██████████| 100/100 [00:00<00:00]\n",
      "Testing: 100%|██████████| 17496/17496 [05:01<00:00, 58.09it/s]\n"
     ]
    },
    {
     "name": "stdout",
     "output_type": "stream",
     "text": [
      "Loading dataset into memory...\n"
     ]
    },
    {
     "name": "stderr",
     "output_type": "stream",
     "text": [
      "100%|██████████| 375/375 [00:26<00:00, 13.95it/s]\n",
      "Graph compilation: 100%|██████████| 100/100 [00:19<00:00]\n",
      "Testing: 100%|██████████| 17496/17496 [05:02<00:00, 57.77it/s]\n"
     ]
    },
    {
     "name": "stdout",
     "output_type": "stream",
     "text": [
      "Loading dataset into memory...\n"
     ]
    },
    {
     "name": "stderr",
     "output_type": "stream",
     "text": [
      "100%|██████████| 375/375 [00:26<00:00, 14.07it/s]\n",
      "Graph compilation: 100%|██████████| 100/100 [00:00<00:00]\n",
      "Testing: 100%|██████████| 17496/17496 [05:03<00:00, 57.74it/s]\n"
     ]
    },
    {
     "name": "stdout",
     "output_type": "stream",
     "text": [
      "Loading dataset into memory...\n"
     ]
    },
    {
     "name": "stderr",
     "output_type": "stream",
     "text": [
      "100%|██████████| 375/375 [00:27<00:00, 13.85it/s]\n",
      "Graph compilation: 100%|██████████| 100/100 [00:00<00:00]\n",
      "Testing: 100%|██████████| 17496/17496 [05:02<00:00, 57.79it/s]\n"
     ]
    }
   ],
   "source": [
    "results = {edge_dir: functions.evaluate_directory(f\"runs/resgcn_adj_type_{edge_dir}\",\n",
    "                                                  partial(functions.evaluate_dirichlet_energy, on_ipu=True),\n",
    "                                                  lambda chkpt: chkpt[\"hparams\"][\"model\"][\"adjacency_type\"])\n",
    "           for edge_dir in [\"downstream\", \"upstream\", \"bidirectional\"]}"
   ]
  },
  {
   "cell_type": "code",
   "execution_count": 26,
   "id": "3cac20c0-11c2-48a9-8327-919df68486f4",
   "metadata": {
    "execution": {
     "iopub.execute_input": "2023-04-21T23:09:23.389905Z",
     "iopub.status.busy": "2023-04-21T23:09:23.389534Z",
     "iopub.status.idle": "2023-04-21T23:09:24.638375Z",
     "shell.execute_reply": "2023-04-21T23:09:24.637721Z",
     "shell.execute_reply.started": "2023-04-21T23:09:23.389886Z"
    }
   },
   "outputs": [
    {
     "data": {
      "image/png": "[encoded data removed]",
      "text/plain": [
       "<Figure size 720x432 with 6 Axes>"
      ]
     },
     "metadata": {
      "needs_background": "light"
     },
     "output_type": "display_data"
    }
   ],
   "source": [
    "plt.figure(figsize=(10, 6))\n",
    "i = 0\n",
    "for i, a in enumerate([\"isolated\", \"binary\", \"learned\", \"stream_length\", \"elevation_difference\", \"average_slope\"]):\n",
    "    plt.subplot(2, 3, i + 1)\n",
    "    plt.ticklabel_format(axis='y', style='sci', scilimits=(0, 0))\n",
    "    plt.title(a.replace(\"_\", \" \"))\n",
    "    for e in [\"downstream\", \"upstream\", \"bidirectional\"]:\n",
    "        dirichlet_evo = results[e][a]\n",
    "        time = list(range(dirichlet_evo.size(1)))\n",
    "        plt.plot(time, dirichlet_evo.mean(dim=0), label=e)\n",
    "        plt.xlim(time[0], time[-1])\n",
    "    if i // 3 == 1:\n",
    "        plt.xlabel(\"layer\")\n",
    "    if i % 3 == 0:\n",
    "        plt.ylabel(\"dirichlet energy\")\n",
    "    plt.legend(loc=\"upper left\")\n",
    "plt.tight_layout()\n",
    "plt.savefig(\"dirichlet_energies.pdf\")\n",
    "plt.show()"
   ]
  }
 ],
 "metadata": {
  "kernelspec": {
   "display_name": "Python 3",
   "language": "python",
   "name": "python3"
  },
  "language_info": {
   "codemirror_mode": {
    "name": "ipython",
    "version": 3
   },
   "file_extension": ".py",
   "mimetype": "text/x-python",
   "name": "python",
   "nbconvert_exporter": "python",
   "pygments_lexer": "ipython3",
   "version": "3.8.10"
  }
 },
 "nbformat": 4,
 "nbformat_minor": 5
}
