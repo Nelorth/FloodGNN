{
 "cells": [
  {
   "cell_type": "code",
   "execution_count": 28,
   "id": "6b1a4a83-be4e-4ece-89a1-5800c2614ec6",
   "metadata": {
    "execution": {
     "iopub.execute_input": "2023-04-07T12:58:03.847597Z",
     "iopub.status.busy": "2023-04-07T12:58:03.847335Z",
     "iopub.status.idle": "2023-04-07T12:58:03.858863Z",
     "shell.execute_reply": "2023-04-07T12:58:03.858386Z",
     "shell.execute_reply.started": "2023-04-07T12:58:03.847577Z"
    }
   },
   "outputs": [],
   "source": [
    "import functions\n",
    "import matplotlib.pyplot as plt\n",
    "import torch\n",
    "\n",
    "from dataset import LamaHDataset\n",
    "from models import FloodMLP, FloodGCN, FloodGRAFFNN\n",
    "from torchinfo import summary\n",
    "from tqdm import tqdm"
   ]
  },
  {
   "cell_type": "code",
   "execution_count": 6,
   "id": "2f42f674-6dc4-4b9e-ad04-0e947a67d3a1",
   "metadata": {
    "execution": {
     "iopub.execute_input": "2023-04-07T12:54:36.575817Z",
     "iopub.status.busy": "2023-04-07T12:54:36.575571Z",
     "iopub.status.idle": "2023-04-07T12:54:36.746546Z",
     "shell.execute_reply": "2023-04-07T12:54:36.745843Z",
     "shell.execute_reply.started": "2023-04-07T12:54:36.575797Z"
    }
   },
   "outputs": [],
   "source": [
    "chkpt = torch.load(\"runs/2023-04-07_11-48-08.run\")\n",
    "HPARAMS = chkpt[\"hparams\"]\n",
    "best_epoch = torch.tensor(chkpt[\"history\"][\"val_loss\"]).argmin()\n",
    "print(best_epoch)"
   ]
  },
  {
   "cell_type": "code",
   "execution_count": 9,
   "id": "1c048047-c303-4b0c-babc-2c3a6de626e1",
   "metadata": {
    "execution": {
     "iopub.execute_input": "2023-04-07T12:54:37.874585Z",
     "iopub.status.busy": "2023-04-07T12:54:37.874352Z",
     "iopub.status.idle": "2023-04-07T12:55:04.589624Z",
     "shell.execute_reply": "2023-04-07T12:55:04.588778Z",
     "shell.execute_reply.started": "2023-04-07T12:54:37.874567Z"
    }
   },
   "outputs": [
    {
     "name": "stdout",
     "output_type": "stream",
     "text": [
      "Loading dataset into memory...\n"
     ]
    },
    {
     "name": "stderr",
     "output_type": "stream",
     "text": [
      "100%|██████████| 375/375 [00:26<00:00, 14.05it/s]\n"
     ]
    }
   ],
   "source": [
    "dataset = LamaHDataset(\"LamaH-CE\",\n",
    "                       years=[2017],\n",
    "                       window_size_hrs=HPARAMS[\"data\"][\"window_size\"],\n",
    "                       stride_length_hrs=HPARAMS[\"data\"][\"stride_length\"],\n",
    "                       lead_time_hrs=HPARAMS[\"data\"][\"lead_time\"],\n",
    "                       bidirectional=HPARAMS[\"data\"][\"bidirectional\"],\n",
    "                       normalize=HPARAMS[\"data\"][\"normalized\"])"
   ]
  },
  {
   "cell_type": "code",
   "execution_count": 10,
   "id": "842a070e-6eb1-45b4-8af1-8e187be83e9e",
   "metadata": {
    "execution": {
     "iopub.execute_input": "2023-04-07T12:55:04.591181Z",
     "iopub.status.busy": "2023-04-07T12:55:04.590996Z",
     "iopub.status.idle": "2023-04-07T12:55:04.614217Z",
     "shell.execute_reply": "2023-04-07T12:55:04.613568Z",
     "shell.execute_reply.started": "2023-04-07T12:55:04.591163Z"
    }
   },
   "outputs": [
    {
     "data": {
      "text/plain": [
       "<All keys matched successfully>"
      ]
     },
     "execution_count": 10,
     "metadata": {},
     "output_type": "execute_result"
    }
   ],
   "source": [
    "model_params = chkpt[\"history\"][\"model_params\"][best_epoch]\n",
    "if HPARAMS[\"model\"][\"weight_type\"] == \"learned\":\n",
    "    edge_weights = model_params[\"edge_weights\"]\n",
    "else:\n",
    "    edge_weights = functions.init_edge_weights(HPARAMS[\"model\"][\"weight_type\"], dataset[0])\n",
    "model = functions.construct_model(HPARAMS, edge_weights)\n",
    "model.load_state_dict(model_params)"
   ]
  },
  {
   "cell_type": "code",
   "execution_count": 11,
   "id": "f34ed875-fc71-4e09-a9c3-2f5f4db66db1",
   "metadata": {
    "execution": {
     "iopub.execute_input": "2023-04-07T12:55:04.615754Z",
     "iopub.status.busy": "2023-04-07T12:55:04.615572Z",
     "iopub.status.idle": "2023-04-07T12:55:04.622840Z",
     "shell.execute_reply": "2023-04-07T12:55:04.622377Z",
     "shell.execute_reply.started": "2023-04-07T12:55:04.615737Z"
    }
   },
   "outputs": [
    {
     "data": {
      "text/plain": [
       "=================================================================\n",
       "Layer (type:depth-idx)                   Param #\n",
       "=================================================================\n",
       "FloodGCN                                 --\n",
       "├─Sequential: 1-1                        --\n",
       "│    └─Linear: 2-1                       3,200\n",
       "│    └─ReLU: 2-2                         --\n",
       "├─Linear: 1-2                            129\n",
       "├─ModuleList: 1-3                        --\n",
       "│    └─GCNConv: 2-3                      16,512\n",
       "│    └─GCNConv: 2-4                      16,512\n",
       "│    └─GCNConv: 2-5                      16,512\n",
       "│    └─GCNConv: 2-6                      16,512\n",
       "│    └─GCNConv: 2-7                      16,512\n",
       "│    └─GCNConv: 2-8                      16,512\n",
       "│    └─GCNConv: 2-9                      16,512\n",
       "│    └─GCNConv: 2-10                     16,512\n",
       "│    └─GCNConv: 2-11                     16,512\n",
       "│    └─GCNConv: 2-12                     16,512\n",
       "│    └─GCNConv: 2-13                     16,512\n",
       "│    └─GCNConv: 2-14                     16,512\n",
       "│    └─GCNConv: 2-15                     16,512\n",
       "│    └─GCNConv: 2-16                     16,512\n",
       "│    └─GCNConv: 2-17                     16,512\n",
       "│    └─GCNConv: 2-18                     16,512\n",
       "│    └─GCNConv: 2-19                     16,512\n",
       "│    └─GCNConv: 2-20                     16,512\n",
       "│    └─GCNConv: 2-21                     16,512\n",
       "=================================================================\n",
       "Total params: 317,057\n",
       "Trainable params: 317,057\n",
       "Non-trainable params: 0\n",
       "================================================================="
      ]
     },
     "execution_count": 11,
     "metadata": {},
     "output_type": "execute_result"
    }
   ],
   "source": [
    "summary(model, depth=2)"
   ]
  },
  {
   "cell_type": "code",
   "execution_count": 12,
   "id": "fefa281b-7385-43b5-a7bf-d548b15144f9",
   "metadata": {
    "execution": {
     "iopub.execute_input": "2023-04-07T12:55:04.623802Z",
     "iopub.status.busy": "2023-04-07T12:55:04.623631Z",
     "iopub.status.idle": "2023-04-07T12:55:04.626866Z",
     "shell.execute_reply": "2023-04-07T12:55:04.626218Z",
     "shell.execute_reply.started": "2023-04-07T12:55:04.623784Z"
    }
   },
   "outputs": [],
   "source": [
    "data = dataset[0]"
   ]
  },
  {
   "cell_type": "code",
   "execution_count": 13,
   "id": "f8f9daf6-283e-4d04-bde2-edc84e0a7cca",
   "metadata": {
    "execution": {
     "iopub.execute_input": "2023-04-07T12:55:04.627927Z",
     "iopub.status.busy": "2023-04-07T12:55:04.627725Z",
     "iopub.status.idle": "2023-04-07T12:55:26.103190Z",
     "shell.execute_reply": "2023-04-07T12:55:26.102566Z",
     "shell.execute_reply.started": "2023-04-07T12:55:04.627910Z"
    }
   },
   "outputs": [
    {
     "name": "stderr",
     "output_type": "stream",
     "text": [
      "Testing: 100%|██████████| 1456/1456 [00:21<00:00, 67.82it/s, test_loss=0.0112] "
     ]
    },
    {
     "name": "stdout",
     "output_type": "stream",
     "text": [
      "0.011214937534972267\n"
     ]
    },
    {
     "name": "stderr",
     "output_type": "stream",
     "text": [
      "\n"
     ]
    }
   ],
   "source": [
    "model.eval()\n",
    "test_loss = 0\n",
    "with torch.no_grad():\n",
    "    pbar = tqdm(dataset, desc=\"Testing\")\n",
    "    for data in pbar:\n",
    "        pred, loss = model(data.x, data.edge_index, data.y)\n",
    "        test_loss += loss.item() / len(dataset)\n",
    "        pbar.set_postfix(test_loss=test_loss)\n",
    "print(test_loss)"
   ]
  },
  {
   "cell_type": "code",
   "execution_count": 20,
   "id": "f24878c8-8a25-4919-b20b-88e5211e787f",
   "metadata": {
    "execution": {
     "iopub.execute_input": "2023-04-07T12:55:31.929670Z",
     "iopub.status.busy": "2023-04-07T12:55:31.929412Z",
     "iopub.status.idle": "2023-04-07T12:55:31.935356Z",
     "shell.execute_reply": "2023-04-07T12:55:31.934694Z",
     "shell.execute_reply.started": "2023-04-07T12:55:31.929651Z"
    }
   },
   "outputs": [
    {
     "data": {
      "text/plain": [
       "tensor([0.1589, 0.1628, 0.1230, 0.1165, 0.0766, 0.0785, 0.0766, 0.2528, 0.0383,\n",
       "        0.0341, 0.0223, 0.0245, 0.0242, 0.0187, 0.0183, 0.0188, 0.0176, 0.0185,\n",
       "        0.0169, 0.0175])"
      ]
     },
     "execution_count": 20,
     "metadata": {},
     "output_type": "execute_result"
    }
   ],
   "source": [
    "torch.tensor(chkpt[\"history\"][\"val_loss\"])"
   ]
  },
  {
   "cell_type": "code",
   "execution_count": 21,
   "id": "d3a62362-926d-4fb3-b7b6-67ab3441d973",
   "metadata": {
    "execution": {
     "iopub.execute_input": "2023-04-07T12:55:32.598641Z",
     "iopub.status.busy": "2023-04-07T12:55:32.598279Z",
     "iopub.status.idle": "2023-04-07T12:55:32.627864Z",
     "shell.execute_reply": "2023-04-07T12:55:32.627147Z",
     "shell.execute_reply.started": "2023-04-07T12:55:32.598623Z"
    }
   },
   "outputs": [],
   "source": [
    "model.eval()\n",
    "pred, loss = model(data.x, data.edge_index, data.y)"
   ]
  },
  {
   "cell_type": "code",
   "execution_count": 22,
   "id": "38c96b71-4057-477d-81bc-f4e61d5888ba",
   "metadata": {
    "execution": {
     "iopub.execute_input": "2023-04-07T12:55:33.149818Z",
     "iopub.status.busy": "2023-04-07T12:55:33.149606Z",
     "iopub.status.idle": "2023-04-07T12:55:33.154672Z",
     "shell.execute_reply": "2023-04-07T12:55:33.153979Z",
     "shell.execute_reply.started": "2023-04-07T12:55:33.149799Z"
    }
   },
   "outputs": [
    {
     "data": {
      "text/plain": [
       "torch.Size([375])"
      ]
     },
     "execution_count": 22,
     "metadata": {},
     "output_type": "execute_result"
    }
   ],
   "source": [
    "dataset.mean.shape"
   ]
  },
  {
   "cell_type": "code",
   "execution_count": 23,
   "id": "343d15c5-ca45-4cff-a12b-beda59ef95d1",
   "metadata": {
    "execution": {
     "iopub.execute_input": "2023-04-07T12:55:33.710280Z",
     "iopub.status.busy": "2023-04-07T12:55:33.710055Z",
     "iopub.status.idle": "2023-04-07T12:55:33.848788Z",
     "shell.execute_reply": "2023-04-07T12:55:33.848081Z",
     "shell.execute_reply.started": "2023-04-07T12:55:33.710261Z"
    }
   },
   "outputs": [
    {
     "data": {
      "text/plain": [
       "[<matplotlib.lines.Line2D at 0x7fefc2ec60a0>]"
      ]
     },
     "execution_count": 23,
     "metadata": {},
     "output_type": "execute_result"
    },
    {
     "data": {
      "image/png": "[encoded data removed]",
      "text/plain": [
       "<Figure size 432x288 with 1 Axes>"
      ]
     },
     "metadata": {
      "needs_background": "light"
     },
     "output_type": "display_data"
    }
   ],
   "source": [
    "import matplotlib.pyplot as plt\n",
    "plt.plot([(dataset.std * dataset[i].y + dataset.mean)[0,0] for i in range(100)])"
   ]
  },
  {
   "cell_type": "code",
   "execution_count": 26,
   "id": "e12c42f6-f0fe-4d27-bbf5-501bfe370e74",
   "metadata": {
    "execution": {
     "iopub.execute_input": "2023-04-07T12:56:01.323794Z",
     "iopub.status.busy": "2023-04-07T12:56:01.323518Z",
     "iopub.status.idle": "2023-04-07T12:56:01.482874Z",
     "shell.execute_reply": "2023-04-07T12:56:01.482324Z",
     "shell.execute_reply.started": "2023-04-07T12:56:01.323774Z"
    }
   },
   "outputs": [],
   "source": [
    "start = 0\n",
    "duration = 10\n",
    "data = dataset[start]\n",
    "ground_truth = torch.cat([data.x] + [dataset[i].y for i in range(duration)], dim=1)\n",
    "prediction = torch.cat([data.x] + [torch.zeros(data.num_nodes, duration)], dim=1)\n",
    "with torch.no_grad():\n",
    "    for i in range(duration):\n",
    "        j = data.x.size(1) + i\n",
    "        x = prediction[:, i:j]\n",
    "        y = ground_truth[:, j]\n",
    "        prediction[:, j] = model(x, data.edge_index, y)[0].squeeze()\n",
    "orig_preds = dataset.denormalize(prediction)\n",
    "orig_targets = dataset.denormalize(ground_truth)"
   ]
  },
  {
   "cell_type": "code",
   "execution_count": 27,
   "id": "bd3365de-10d2-4b74-8d16-5f3b5ac85e3a",
   "metadata": {
    "execution": {
     "iopub.execute_input": "2023-04-07T12:56:04.005450Z",
     "iopub.status.busy": "2023-04-07T12:56:04.005053Z",
     "iopub.status.idle": "2023-04-07T12:56:04.126265Z",
     "shell.execute_reply": "2023-04-07T12:56:04.125472Z",
     "shell.execute_reply.started": "2023-04-07T12:56:04.005430Z"
    }
   },
   "outputs": [
    {
     "data": {
      "text/plain": [
       "[<matplotlib.lines.Line2D at 0x7fefc2d3f7f0>]"
      ]
     },
     "execution_count": 27,
     "metadata": {},
     "output_type": "execute_result"
    },
    {
     "data": {
      "image/png": "[encoded data removed]",
      "text/plain": [
       "<Figure size 432x288 with 1 Axes>"
      ]
     },
     "metadata": {
      "needs_background": "light"
     },
     "output_type": "display_data"
    }
   ],
   "source": [
    "plt.plot(orig_preds[0])\n",
    "plt.plot(orig_targets[0])"
   ]
  },
  {
   "cell_type": "code",
   "execution_count": 82,
   "id": "a54aa4f2-579b-4a2b-919d-26467a04439c",
   "metadata": {
    "execution": {
     "iopub.execute_input": "2023-04-07T12:37:18.041782Z",
     "iopub.status.busy": "2023-04-07T12:37:18.041526Z",
     "iopub.status.idle": "2023-04-07T12:37:18.047424Z",
     "shell.execute_reply": "2023-04-07T12:37:18.046684Z",
     "shell.execute_reply.started": "2023-04-07T12:37:18.041762Z"
    }
   },
   "outputs": [
    {
     "name": "stdout",
     "output_type": "stream",
     "text": [
      "tensor([-0.7652, -0.7616, -0.7546, -0.7590, -0.7602, -0.7487, -0.7515, -0.7593,\n",
      "        -0.7567, -0.7514])\n"
     ]
    }
   ],
   "source": [
    "print(torch.cat([dataset[i].y[1] for i in range(10)]))"
   ]
  },
  {
   "cell_type": "code",
   "execution_count": 87,
   "id": "d486334d-889e-4e26-846e-022115311fcd",
   "metadata": {
    "execution": {
     "iopub.execute_input": "2023-04-07T12:39:17.063062Z",
     "iopub.status.busy": "2023-04-07T12:39:17.062503Z",
     "iopub.status.idle": "2023-04-07T12:39:17.066912Z",
     "shell.execute_reply": "2023-04-07T12:39:17.066435Z",
     "shell.execute_reply.started": "2023-04-07T12:39:17.063042Z"
    }
   },
   "outputs": [
    {
     "name": "stdout",
     "output_type": "stream",
     "text": [
      "tensor([-0.7652, -0.7616, -0.7546, -0.7590, -0.7602, -0.7487, -0.7515, -0.7593,\n",
      "        -0.7567, -0.7514])\n"
     ]
    }
   ],
   "source": [
    "print(torch.cat([targets[i][1] for i in range(10)]))"
   ]
  }
 ],
 "metadata": {
  "kernelspec": {
   "display_name": "Python 3",
   "language": "python",
   "name": "python3"
  },
  "language_info": {
   "codemirror_mode": {
    "name": "ipython",
    "version": 3
   },
   "file_extension": ".py",
   "mimetype": "text/x-python",
   "name": "python",
   "nbconvert_exporter": "python",
   "pygments_lexer": "ipython3",
   "version": "3.8.10"
  }
 },
 "nbformat": 4,
 "nbformat_minor": 5
}
