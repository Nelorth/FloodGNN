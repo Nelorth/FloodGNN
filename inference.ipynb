{
 "cells": [
  {
   "cell_type": "code",
   "execution_count": 1,
   "id": "d5a93cbe-cb2f-4972-863f-5362493bc608",
   "metadata": {
    "execution": {
     "iopub.execute_input": "2023-04-09T20:29:58.095938Z",
     "iopub.status.busy": "2023-04-09T20:29:58.095677Z",
     "iopub.status.idle": "2023-04-09T20:29:59.559761Z",
     "shell.execute_reply": "2023-04-09T20:29:59.559204Z",
     "shell.execute_reply.started": "2023-04-09T20:29:58.095918Z"
    }
   },
   "outputs": [
    {
     "name": "stdout",
     "output_type": "stream",
     "text": [
      "\u001b[33mWARNING: Running pip as the 'root' user can result in broken permissions and conflicting behaviour with the system package manager. It is recommended to use a virtual environment instead: https://pip.pypa.io/warnings/venv\u001b[0m\u001b[33m\n",
      "\u001b[0mNote: you may need to restart the kernel to use updated packages.\n"
     ]
    }
   ],
   "source": [
    "%pip install -q matplotlib networkx pandas torchinfo\n",
    "%load_ext autoreload\n",
    "%autoreload 2"
   ]
  },
  {
   "cell_type": "code",
   "execution_count": 2,
   "id": "6b1a4a83-be4e-4ece-89a1-5800c2614ec6",
   "metadata": {
    "execution": {
     "iopub.execute_input": "2023-04-09T20:29:59.560940Z",
     "iopub.status.busy": "2023-04-09T20:29:59.560758Z",
     "iopub.status.idle": "2023-04-09T20:30:01.440819Z",
     "shell.execute_reply": "2023-04-09T20:30:01.440138Z",
     "shell.execute_reply.started": "2023-04-09T20:29:59.560923Z"
    }
   },
   "outputs": [],
   "source": [
    "import functions\n",
    "import json\n",
    "import matplotlib.pyplot as plt\n",
    "import poptorch\n",
    "import torch\n",
    "\n",
    "from dataset import LamaHDataset\n",
    "from models import FloodMLP, FloodGCN, FloodGRAFFNN\n",
    "from torchinfo import summary\n",
    "from tqdm import tqdm"
   ]
  },
  {
   "cell_type": "code",
   "execution_count": 3,
   "id": "2f42f674-6dc4-4b9e-ad04-0e947a67d3a1",
   "metadata": {
    "execution": {
     "iopub.execute_input": "2023-04-09T20:30:01.442647Z",
     "iopub.status.busy": "2023-04-09T20:30:01.442381Z",
     "iopub.status.idle": "2023-04-09T20:30:01.514787Z",
     "shell.execute_reply": "2023-04-09T20:30:01.514098Z",
     "shell.execute_reply.started": "2023-04-09T20:30:01.442628Z"
    }
   },
   "outputs": [
    {
     "name": "stdout",
     "output_type": "stream",
     "text": [
      "{\n",
      "    \"data\": {\n",
      "        \"window_size\": 24,\n",
      "        \"stride_length\": 6,\n",
      "        \"lead_time\": 1,\n",
      "        \"bidirectional\": true,\n",
      "        \"normalized\": true\n",
      "    },\n",
      "    \"model\": {\n",
      "        \"architecture\": \"GCN\",\n",
      "        \"propagation_dist\": 5,\n",
      "        \"hidden_size\": 128,\n",
      "        \"residual\": true,\n",
      "        \"adjacency_type\": \"binary\",\n",
      "        \"shared_weights\": true,\n",
      "        \"step_size\": 1\n",
      "    },\n",
      "    \"training\": {\n",
      "        \"num_epochs\": 20,\n",
      "        \"batch_size\": 16,\n",
      "        \"learning_rate\": 0.01,\n",
      "        \"weight_decay\": 0\n",
      "    }\n",
      "}\n"
     ]
    }
   ],
   "source": [
    "chkpt = torch.load(\"runs/2023-04-09_18-28-40.run\")\n",
    "HPARAMS = chkpt[\"hparams\"]\n",
    "print(json.dumps(HPARAMS, indent=4))"
   ]
  },
  {
   "cell_type": "code",
   "execution_count": 4,
   "id": "1c048047-c303-4b0c-babc-2c3a6de626e1",
   "metadata": {
    "execution": {
     "iopub.execute_input": "2023-04-09T20:30:01.516102Z",
     "iopub.status.busy": "2023-04-09T20:30:01.515932Z",
     "iopub.status.idle": "2023-04-09T20:30:28.694396Z",
     "shell.execute_reply": "2023-04-09T20:30:28.693470Z",
     "shell.execute_reply.started": "2023-04-09T20:30:01.516084Z"
    }
   },
   "outputs": [
    {
     "name": "stdout",
     "output_type": "stream",
     "text": [
      "Loading dataset into memory...\n"
     ]
    },
    {
     "name": "stderr",
     "output_type": "stream",
     "text": [
      "100%|██████████| 375/375 [00:27<00:00, 13.82it/s]\n"
     ]
    }
   ],
   "source": [
    "dataset = LamaHDataset(\"LamaH-CE\",\n",
    "                       years=[2016, 2017],\n",
    "                       window_size_hrs=HPARAMS[\"data\"][\"window_size\"],\n",
    "                       stride_length_hrs=1,  # get max out of data\n",
    "                       lead_time_hrs=HPARAMS[\"data\"][\"lead_time\"],\n",
    "                       bidirectional=HPARAMS[\"data\"][\"bidirectional\"],\n",
    "                       normalized=HPARAMS[\"data\"][\"normalized\"])"
   ]
  },
  {
   "cell_type": "code",
   "execution_count": 5,
   "id": "842a070e-6eb1-45b4-8af1-8e187be83e9e",
   "metadata": {
    "execution": {
     "iopub.execute_input": "2023-04-09T20:30:28.695759Z",
     "iopub.status.busy": "2023-04-09T20:30:28.695574Z",
     "iopub.status.idle": "2023-04-09T20:30:28.859342Z",
     "shell.execute_reply": "2023-04-09T20:30:28.858698Z",
     "shell.execute_reply.started": "2023-04-09T20:30:28.695740Z"
    }
   },
   "outputs": [
    {
     "name": "stdout",
     "output_type": "stream",
     "text": [
      "=================================================================\n",
      "Layer (type:depth-idx)                   Param #\n",
      "=================================================================\n",
      "FloodGCN                                 --\n",
      "├─Linear: 1-1                            3,200\n",
      "├─Linear: 1-2                            129\n",
      "├─ModuleList: 1-3                        --\n",
      "│    └─GCNConv: 2-1                      16,512\n",
      "│    └─GCNConv: 2-2                      16,512\n",
      "│    └─GCNConv: 2-3                      16,512\n",
      "│    └─GCNConv: 2-4                      16,512\n",
      "│    └─GCNConv: 2-5                      16,512\n",
      "=================================================================\n",
      "Total params: 85,889\n",
      "Trainable params: 85,889\n",
      "Non-trainable params: 0\n",
      "=================================================================\n"
     ]
    },
    {
     "data": {
      "image/png": "[encoded data removed]",
      "text/plain": [
       "<Figure size 432x288 with 1 Axes>"
      ]
     },
     "metadata": {
      "needs_background": "light"
     },
     "output_type": "display_data"
    }
   ],
   "source": [
    "best_epoch = torch.tensor(chkpt[\"history\"][\"val_loss\"]).argmin()\n",
    "model_params = chkpt[\"history\"][\"model_params\"][best_epoch]\n",
    "edge_weights = functions.init_edge_weights(HPARAMS[\"model\"][\"adjacency_type\"], dataset[0].edge_attr)\n",
    "model = functions.construct_model(HPARAMS, edge_weights)\n",
    "model.load_state_dict(model_params, strict=False)\n",
    "print(summary(model, depth=2))\n",
    "functions.plot_loss(chkpt[\"history\"][\"train_loss\"], chkpt[\"history\"][\"val_loss\"])"
   ]
  },
  {
   "cell_type": "code",
   "execution_count": 6,
   "id": "f8f9daf6-283e-4d04-bde2-edc84e0a7cca",
   "metadata": {
    "execution": {
     "iopub.execute_input": "2023-04-09T20:30:28.860412Z",
     "iopub.status.busy": "2023-04-09T20:30:28.860232Z",
     "iopub.status.idle": "2023-04-09T20:30:40.576326Z",
     "shell.execute_reply": "2023-04-09T20:30:40.575587Z",
     "shell.execute_reply.started": "2023-04-09T20:30:28.860394Z"
    }
   },
   "outputs": [
    {
     "name": "stderr",
     "output_type": "stream",
     "text": [
      "Graph compilation: 100%|██████████| 100/100 [00:00<00:00]\n",
      "Testing: 100%|██████████| 17496/17496 [00:09<00:00, 1807.75it/s]\n"
     ]
    },
    {
     "name": "stdout",
     "output_type": "stream",
     "text": [
      "MSE: 42.176 | NSE: 0.985\n"
     ]
    },
    {
     "data": {
      "text/plain": [
       "<All keys matched successfully>"
      ]
     },
     "execution_count": 6,
     "metadata": {},
     "output_type": "execute_result"
    }
   ],
   "source": [
    "test_mse, test_nse = functions.evaluate(model, dataset, HPARAMS, on_ipu=True)\n",
    "print(f\"MSE: {test_mse.mean():.3f} | NSE: {test_nse.mean():.3f}\")\n",
    "\n",
    "# have to re-load model due to bug in poptorch\n",
    "model = functions.construct_model(HPARAMS, edge_weights)\n",
    "model.load_state_dict(model_params, strict=False)"
   ]
  },
  {
   "cell_type": "code",
   "execution_count": 7,
   "id": "fefa281b-7385-43b5-a7bf-d548b15144f9",
   "metadata": {
    "execution": {
     "iopub.execute_input": "2023-04-09T20:30:40.577498Z",
     "iopub.status.busy": "2023-04-09T20:30:40.577320Z",
     "iopub.status.idle": "2023-04-09T20:30:40.599052Z",
     "shell.execute_reply": "2023-04-09T20:30:40.598436Z",
     "shell.execute_reply.started": "2023-04-09T20:30:40.577481Z"
    }
   },
   "outputs": [],
   "source": [
    "data = dataset[0]"
   ]
  },
  {
   "cell_type": "code",
   "execution_count": 8,
   "id": "e12c42f6-f0fe-4d27-bbf5-501bfe370e74",
   "metadata": {
    "execution": {
     "iopub.execute_input": "2023-04-09T20:30:40.600856Z",
     "iopub.status.busy": "2023-04-09T20:30:40.600677Z",
     "iopub.status.idle": "2023-04-09T20:30:40.815998Z",
     "shell.execute_reply": "2023-04-09T20:30:40.815378Z",
     "shell.execute_reply.started": "2023-04-09T20:30:40.600839Z"
    }
   },
   "outputs": [
    {
     "data": {
      "text/plain": [
       "[<matplotlib.lines.Line2D at 0x7fcfe39ceb20>]"
      ]
     },
     "execution_count": 8,
     "metadata": {},
     "output_type": "execute_result"
    },
    {
     "data": {
      "image/png": "[encoded data removed]",
      "text/plain": [
       "<Figure size 432x288 with 1 Axes>"
      ]
     },
     "metadata": {
      "needs_background": "light"
     },
     "output_type": "display_data"
    }
   ],
   "source": [
    "def autoforecast(model, data, num_steps):\n",
    "    window = data.x\n",
    "    with torch.no_grad():\n",
    "        for i in range(num_steps):\n",
    "            pred = model(window[:, i:], data.edge_index)\n",
    "            window = torch.cat([window, pred], dim=1)\n",
    "    return window\n",
    "\n",
    "start = 0\n",
    "duration = 10\n",
    "data = dataset[start]\n",
    "\n",
    "pred = autoforecast(model, data, duration)\n",
    "truth = torch.cat([data.x] + [dataset[i].y for i in range(duration)], dim=1)\n",
    "\n",
    "plt.plot(dataset.denormalize(pred)[0])\n",
    "plt.plot(dataset.denormalize(truth)[0])"
   ]
  },
  {
   "cell_type": "code",
   "execution_count": 9,
   "id": "ef383900-0a11-441d-9883-a8ee6febe68f",
   "metadata": {
    "execution": {
     "iopub.execute_input": "2023-04-09T20:30:40.817225Z",
     "iopub.status.busy": "2023-04-09T20:30:40.817041Z",
     "iopub.status.idle": "2023-04-09T20:30:40.843411Z",
     "shell.execute_reply": "2023-04-09T20:30:40.842711Z",
     "shell.execute_reply.started": "2023-04-09T20:30:40.817207Z"
    }
   },
   "outputs": [
    {
     "data": {
      "text/plain": [
       "6"
      ]
     },
     "execution_count": 9,
     "metadata": {},
     "output_type": "execute_result"
    }
   ],
   "source": [
    "model(data.x, data.edge_index, evo_tracking=True).shape\n",
    "\n",
    "len(model.evolution)"
   ]
  },
  {
   "cell_type": "code",
   "execution_count": 10,
   "id": "e0c179c3-8b07-4ef2-a479-f29f52d7e55d",
   "metadata": {
    "execution": {
     "iopub.execute_input": "2023-04-09T20:30:40.845081Z",
     "iopub.status.busy": "2023-04-09T20:30:40.844806Z",
     "iopub.status.idle": "2023-04-09T20:30:40.867694Z",
     "shell.execute_reply": "2023-04-09T20:30:40.867013Z",
     "shell.execute_reply.started": "2023-04-09T20:30:40.845055Z"
    }
   },
   "outputs": [
    {
     "name": "stdout",
     "output_type": "stream",
     "text": [
      "tensor([0.2620, 0.2600, 0.2620, 0.2640, 0.2630, 0.2640, 0.2640, 0.2640, 0.2630,\n",
      "        0.2640, 0.2750, 0.2750, 0.2710, 0.2740, 0.2760, 0.2750, 0.2600, 0.2720,\n",
      "        0.2720, 0.2670, 0.2620, 0.2580, 0.2630, 0.2720, 0.2720, 0.2740, 0.2730,\n",
      "        0.2740, 0.2740, 0.2750, 0.2740, 0.2710, 0.2700, 0.2670])\n"
     ]
    }
   ],
   "source": [
    "print(dataset.denormalize(truth)[0])"
   ]
  }
 ],
 "metadata": {
  "kernelspec": {
   "display_name": "Python 3",
   "language": "python",
   "name": "python3"
  },
  "language_info": {
   "codemirror_mode": {
    "name": "ipython",
    "version": 3
   },
   "file_extension": ".py",
   "mimetype": "text/x-python",
   "name": "python",
   "nbconvert_exporter": "python",
   "pygments_lexer": "ipython3",
   "version": "3.8.10"
  }
 },
 "nbformat": 4,
 "nbformat_minor": 5
}
