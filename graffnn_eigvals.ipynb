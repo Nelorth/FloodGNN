{
 "cells": [
  {
   "cell_type": "code",
   "execution_count": 2,
   "id": "d5a93cbe-cb2f-4972-863f-5362493bc608",
   "metadata": {
    "execution": {
     "iopub.execute_input": "2023-04-21T22:05:37.717379Z",
     "iopub.status.busy": "2023-04-21T22:05:37.717080Z",
     "iopub.status.idle": "2023-04-21T22:05:39.436114Z",
     "shell.execute_reply": "2023-04-21T22:05:39.434874Z",
     "shell.execute_reply.started": "2023-04-21T22:05:37.717354Z"
    }
   },
   "outputs": [
    {
     "name": "stdout",
     "output_type": "stream",
     "text": [
      "\u001b[33mWARNING: Running pip as the 'root' user can result in broken permissions and conflicting behaviour with the system package manager. It is recommended to use a virtual environment instead: https://pip.pypa.io/warnings/venv\u001b[0m\u001b[33m\n",
      "\u001b[0mNote: you may need to restart the kernel to use updated packages.\n"
     ]
    }
   ],
   "source": [
    "%pip install -q matplotlib networkx pandas torchinfo\n",
    "%load_ext autoreload\n",
    "%autoreload 2"
   ]
  },
  {
   "cell_type": "code",
   "execution_count": 3,
   "id": "6b1a4a83-be4e-4ece-89a1-5800c2614ec6",
   "metadata": {
    "execution": {
     "iopub.execute_input": "2023-04-21T22:05:39.437842Z",
     "iopub.status.busy": "2023-04-21T22:05:39.437630Z",
     "iopub.status.idle": "2023-04-21T22:05:41.565188Z",
     "shell.execute_reply": "2023-04-21T22:05:41.564388Z",
     "shell.execute_reply.started": "2023-04-21T22:05:39.437820Z"
    }
   },
   "outputs": [],
   "source": [
    "import functions\n",
    "import json\n",
    "import matplotlib.pyplot as plt\n",
    "import os\n",
    "import poptorch\n",
    "import torch\n",
    "\n",
    "from dataset import LamaHDataset\n",
    "from torchinfo import summary\n",
    "from tqdm import tqdm"
   ]
  },
  {
   "cell_type": "code",
   "execution_count": 53,
   "id": "ce38e385-e20e-4faf-ae94-33695620c391",
   "metadata": {
    "execution": {
     "iopub.execute_input": "2023-04-21T22:36:22.046500Z",
     "iopub.status.busy": "2023-04-21T22:36:22.046169Z",
     "iopub.status.idle": "2023-04-21T22:36:24.258145Z",
     "shell.execute_reply": "2023-04-21T22:36:24.257331Z",
     "shell.execute_reply.started": "2023-04-21T22:36:22.046475Z"
    }
   },
   "outputs": [],
   "source": [
    "eigvals = {\"downstream\": {}, \"upstream\": {}, \"bidirectional\": {}}\n",
    "for edge_dir in eigvals.keys():\n",
    "    folder = f\"runs/graffnn_adj_type_{edge_dir}\"\n",
    "    for file in os.listdir(folder):\n",
    "        chkpt = torch.load(folder + \"/\" + file)\n",
    "        best_epoch = torch.tensor(chkpt[\"history\"][\"val_loss\"]).argmin()\n",
    "        params = chkpt[\"history\"][\"model_params\"][best_epoch]\n",
    "        internal_mixer = params[\"layers.0.internal_mixer.weight\"]\n",
    "        assert torch.allclose(internal_mixer, internal_mixer.T)\n",
    "        adj_type = chkpt[\"hparams\"][\"model\"][\"adjacency_type\"]\n",
    "        eigvals[edge_dir][adj_type] = torch.linalg.eigvals(internal_mixer).real"
   ]
  },
  {
   "cell_type": "code",
   "execution_count": 55,
   "id": "c5ebf6a6-ea7a-4952-a0d5-efc8269444d9",
   "metadata": {
    "execution": {
     "iopub.execute_input": "2023-04-21T22:37:53.840251Z",
     "iopub.status.busy": "2023-04-21T22:37:53.840001Z",
     "iopub.status.idle": "2023-04-21T22:37:53.911444Z",
     "shell.execute_reply": "2023-04-21T22:37:53.910745Z",
     "shell.execute_reply.started": "2023-04-21T22:37:53.840231Z"
    }
   },
   "outputs": [
    {
     "name": "stdout",
     "output_type": "stream",
     "text": [
      "stream_length downstream\n",
      "mean: tensor(-0.0888)\n",
      "std: tensor(0.7521)\n",
      "min: tensor(-2.1675)\n",
      "max: tensor(1.3864)\n",
      "#pos: 30\n",
      "#neg: 34\n",
      "\n",
      "elevation_difference downstream\n",
      "mean: tensor(-0.1436)\n",
      "std: tensor(0.8202)\n",
      "min: tensor(-2.4162)\n",
      "max: tensor(1.6925)\n",
      "#pos: 28\n",
      "#neg: 36\n",
      "\n",
      "average_slope downstream\n",
      "mean: tensor(-0.1417)\n",
      "std: tensor(0.8512)\n",
      "min: tensor(-2.6124)\n",
      "max: tensor(1.9226)\n",
      "#pos: 29\n",
      "#neg: 35\n",
      "\n",
      "learned downstream\n",
      "mean: tensor(-0.1548)\n",
      "std: tensor(0.8530)\n",
      "min: tensor(-2.4229)\n",
      "max: tensor(1.4704)\n",
      "#pos: 28\n",
      "#neg: 36\n",
      "\n",
      "isolated downstream\n",
      "mean: tensor(-0.1091)\n",
      "std: tensor(0.7085)\n",
      "min: tensor(-2.0317)\n",
      "max: tensor(1.2129)\n",
      "#pos: 30\n",
      "#neg: 34\n",
      "\n",
      "binary downstream\n",
      "mean: tensor(-0.0991)\n",
      "std: tensor(0.7817)\n",
      "min: tensor(-2.0906)\n",
      "max: tensor(1.5341)\n",
      "#pos: 30\n",
      "#neg: 34\n",
      "\n",
      "isolated upstream\n",
      "mean: tensor(-0.1091)\n",
      "std: tensor(0.7085)\n",
      "min: tensor(-2.0317)\n",
      "max: tensor(1.2129)\n",
      "#pos: 30\n",
      "#neg: 34\n",
      "\n",
      "learned upstream\n",
      "mean: tensor(-0.0914)\n",
      "std: tensor(0.7672)\n",
      "min: tensor(-2.1527)\n",
      "max: tensor(1.3131)\n",
      "#pos: 30\n",
      "#neg: 34\n",
      "\n",
      "binary upstream\n",
      "mean: tensor(-0.0687)\n",
      "std: tensor(0.7309)\n",
      "min: tensor(-1.9512)\n",
      "max: tensor(1.4913)\n",
      "#pos: 31\n",
      "#neg: 33\n",
      "\n",
      "elevation_difference upstream\n",
      "mean: tensor(-0.0966)\n",
      "std: tensor(0.7227)\n",
      "min: tensor(-1.9294)\n",
      "max: tensor(1.4734)\n",
      "#pos: 31\n",
      "#neg: 33\n",
      "\n",
      "stream_length upstream\n",
      "mean: tensor(-0.0825)\n",
      "std: tensor(0.7518)\n",
      "min: tensor(-2.0283)\n",
      "max: tensor(1.3266)\n",
      "#pos: 30\n",
      "#neg: 34\n",
      "\n",
      "average_slope upstream\n",
      "mean: tensor(-0.0819)\n",
      "std: tensor(0.7450)\n",
      "min: tensor(-2.0498)\n",
      "max: tensor(1.6631)\n",
      "#pos: 31\n",
      "#neg: 33\n",
      "\n",
      "isolated bidirectional\n",
      "mean: tensor(-0.1091)\n",
      "std: tensor(0.7085)\n",
      "min: tensor(-2.0317)\n",
      "max: tensor(1.2129)\n",
      "#pos: 30\n",
      "#neg: 34\n",
      "\n",
      "stream_length bidirectional\n",
      "mean: tensor(-0.0831)\n",
      "std: tensor(0.7446)\n",
      "min: tensor(-2.2206)\n",
      "max: tensor(1.3097)\n",
      "#pos: 30\n",
      "#neg: 34\n",
      "\n",
      "learned bidirectional\n",
      "mean: tensor(-0.1114)\n",
      "std: tensor(0.7573)\n",
      "min: tensor(-2.3881)\n",
      "max: tensor(1.4159)\n",
      "#pos: 29\n",
      "#neg: 35\n",
      "\n",
      "elevation_difference bidirectional\n",
      "mean: tensor(-0.0705)\n",
      "std: tensor(0.7312)\n",
      "min: tensor(-2.2080)\n",
      "max: tensor(1.5224)\n",
      "#pos: 31\n",
      "#neg: 33\n",
      "\n",
      "binary bidirectional\n",
      "mean: tensor(-0.0660)\n",
      "std: tensor(0.7132)\n",
      "min: tensor(-2.0675)\n",
      "max: tensor(1.4255)\n",
      "#pos: 30\n",
      "#neg: 34\n",
      "\n",
      "average_slope bidirectional\n",
      "mean: tensor(-0.0774)\n",
      "std: tensor(0.7190)\n",
      "min: tensor(-2.1164)\n",
      "max: tensor(1.4444)\n",
      "#pos: 30\n",
      "#neg: 34\n",
      "\n"
     ]
    }
   ],
   "source": [
    "for edge_dir, sub_dict in eigvals.items():\n",
    "    for adj_type, val in sub_dict.items():\n",
    "        print(adj_type, edge_dir)\n",
    "        print(\"mean:\", val.mean())\n",
    "        print(\"std:\", val.std())\n",
    "        print(\"min:\", val.min())\n",
    "        print(\"max:\", val.max())\n",
    "        print(\"#pos:\", len(val[val > 0]))\n",
    "        print(\"#neg:\", len(val[val < 0]))\n",
    "        print()"
   ]
  },
  {
   "cell_type": "code",
   "execution_count": 81,
   "id": "78b2ca42-79c0-4ff0-928e-40fa90cc40f8",
   "metadata": {
    "execution": {
     "iopub.execute_input": "2023-04-21T22:56:03.038946Z",
     "iopub.status.busy": "2023-04-21T22:56:03.038684Z",
     "iopub.status.idle": "2023-04-21T22:56:03.657976Z",
     "shell.execute_reply": "2023-04-21T22:56:03.657244Z",
     "shell.execute_reply.started": "2023-04-21T22:56:03.038926Z"
    }
   },
   "outputs": [
    {
     "data": {
      "image/png": "[encoded data removed]",
      "text/plain": [
       "<Figure size 864x345.6 with 3 Axes>"
      ]
     },
     "metadata": {
      "needs_background": "light"
     },
     "output_type": "display_data"
    }
   ],
   "source": [
    "plt.figure(figsize=(12, 4.8))\n",
    "colors = plt.rcParams[\"axes.prop_cycle\"].by_key()[\"color\"]\n",
    "for i, edge_dir in enumerate(eigvals.keys()):\n",
    "    plt.subplot(1, 3, i + 1)\n",
    "    plt.title(edge_dir)\n",
    "    keys = [\"isolated\", \"binary\", \"stream_length\", \"elevation_difference\", \"average_slope\", \"learned\"]\n",
    "    plt.boxplot([eigvals[edge_dir][k] for k in keys], labels=[k.replace(\"_\", \" \") for k in keys], whis=10, \n",
    "                patch_artist=True, medianprops=dict(color=colors[i]), boxprops=dict(facecolor=colors[i], color=\"b\", alpha=0.1))\n",
    "    plt.xticks(rotation=45, ha=\"right\")\n",
    "    plt.ylim((-3, 3))\n",
    "plt.tight_layout()\n",
    "plt.savefig(\"graffnn_eigvals.pdf\")\n",
    "plt.show()"
   ]
  }
 ],
 "metadata": {
  "kernelspec": {
   "display_name": "Python 3",
   "language": "python",
   "name": "python3"
  },
  "language_info": {
   "codemirror_mode": {
    "name": "ipython",
    "version": 3
   },
   "file_extension": ".py",
   "mimetype": "text/x-python",
   "name": "python",
   "nbconvert_exporter": "python",
   "pygments_lexer": "ipython3",
   "version": "3.8.10"
  }
 },
 "nbformat": 4,
 "nbformat_minor": 5
}
