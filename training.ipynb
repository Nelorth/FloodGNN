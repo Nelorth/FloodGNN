{
 "cells": [
  {
   "cell_type": "code",
   "execution_count": 1,
   "metadata": {
    "execution": {
     "iopub.execute_input": "2023-04-10T08:24:44.032254Z",
     "iopub.status.busy": "2023-04-10T08:24:44.032014Z",
     "iopub.status.idle": "2023-04-10T08:25:00.418485Z",
     "shell.execute_reply": "2023-04-10T08:25:00.417602Z",
     "shell.execute_reply.started": "2023-04-10T08:24:44.032235Z"
    }
   },
   "outputs": [
    {
     "name": "stdout",
     "output_type": "stream",
     "text": [
      "\u001b[33mWARNING: Running pip as the 'root' user can result in broken permissions and conflicting behaviour with the system package manager. It is recommended to use a virtual environment instead: https://pip.pypa.io/warnings/venv\u001b[0m\u001b[33m\n",
      "\u001b[0mNote: you may need to restart the kernel to use updated packages.\n"
     ]
    }
   ],
   "source": [
    "%pip install -q matplotlib networkx pandas torchinfo\n",
    "%load_ext autoreload\n",
    "%autoreload 2"
   ]
  },
  {
   "cell_type": "code",
   "execution_count": 2,
   "metadata": {
    "execution": {
     "iopub.execute_input": "2023-04-10T08:25:00.419923Z",
     "iopub.status.busy": "2023-04-10T08:25:00.419742Z",
     "iopub.status.idle": "2023-04-10T08:25:05.091844Z",
     "shell.execute_reply": "2023-04-10T08:25:05.091006Z",
     "shell.execute_reply.started": "2023-04-10T08:25:00.419904Z"
    },
    "id": "t441Wt-pO5Fo"
   },
   "outputs": [],
   "source": [
    "import copy\n",
    "import functions\n",
    "import matplotlib.pyplot as plt\n",
    "import networkx as nx\n",
    "import numpy as np\n",
    "import poptorch\n",
    "import random\n",
    "import torch\n",
    "import torch.nn as nn\n",
    "import torch.nn.functional as F\n",
    "\n",
    "from dataset import LamaHDataset\n",
    "from datetime import datetime\n",
    "from models import FloodMLP, FloodGCN, FloodGRAFFNN\n",
    "from poptorch_geometric import FixedSizeDataLoader\n",
    "from torch_geometric.loader import DataLoader\n",
    "from torch_geometric.nn import GCNConv, GATConv\n",
    "from torch_geometric.transforms import AddSelfLoops, ToUndirected\n",
    "from torch_geometric.utils import to_networkx\n",
    "from torchinfo import summary\n",
    "from tqdm import tqdm"
   ]
  },
  {
   "cell_type": "code",
   "execution_count": 3,
   "metadata": {
    "execution": {
     "iopub.execute_input": "2023-04-10T08:25:05.093517Z",
     "iopub.status.busy": "2023-04-10T08:25:05.093217Z",
     "iopub.status.idle": "2023-04-10T08:25:05.114625Z",
     "shell.execute_reply": "2023-04-10T08:25:05.114027Z",
     "shell.execute_reply.started": "2023-04-10T08:25:05.093499Z"
    },
    "id": "cSz0Dz2zkKGg"
   },
   "outputs": [],
   "source": [
    "functions.ensure_reproducibility(1)  # set to 2 and 3 for std runs"
   ]
  },
  {
   "cell_type": "code",
   "execution_count": 14,
   "metadata": {
    "execution": {
     "iopub.execute_input": "2023-04-09T20:58:21.397201Z",
     "iopub.status.busy": "2023-04-09T20:58:21.396899Z",
     "iopub.status.idle": "2023-04-09T20:58:21.421703Z",
     "shell.execute_reply": "2023-04-09T20:58:21.420916Z",
     "shell.execute_reply.started": "2023-04-09T20:58:21.397178Z"
    },
    "id": "2WtQH9ixOo7R"
   },
   "outputs": [],
   "source": [
    "HPARAMS = {\n",
    "    \"data\": {\n",
    "        \"window_size\": 24,\n",
    "        \"stride_length\": 6,\n",
    "        \"lead_time\": 1,\n",
    "        \"bidirectional\": True,\n",
    "        \"normalized\": True\n",
    "    },\n",
    "    \"model\": {\n",
    "        \"architecture\": \"GRAFFNN\",\n",
    "        \"propagation_dist\": 5,\n",
    "        \"hidden_size\": 128,\n",
    "        \"residual\": True,\n",
    "        \"adjacency_type\": \"learned\",\n",
    "        \"shared_weights\": True,\n",
    "        \"step_size\": 1\n",
    "    },\n",
    "    \"training\": {\n",
    "        \"num_epochs\": 100,\n",
    "        \"batch_size\": 32,\n",
    "        \"learning_rate\": 0.005,\n",
    "        \"weight_decay\": 0 # 5e-4\n",
    "    }\n",
    "}"
   ]
  },
  {
   "cell_type": "code",
   "execution_count": null,
   "metadata": {
    "colab": {
     "base_uri": "https://localhost:8080/"
    },
    "execution": {
     "iopub.execute_input": "2023-04-09T20:46:27.544767Z",
     "iopub.status.busy": "2023-04-09T20:46:27.544585Z",
     "iopub.status.idle": "2023-04-09T20:46:59.115871Z"
    },
    "id": "1YZ0w1aw0zWm",
    "outputId": "d069e06d-358b-4b5b-fde2-fcc0f9d0eb8e"
   },
   "outputs": [
    {
     "name": "stdout",
     "output_type": "stream",
     "text": [
      "Loading dataset into memory...\n"
     ]
    },
    {
     "name": "stderr",
     "output_type": "stream",
     "text": [
      "100%|██████████| 375/375 [00:31<00:00, 11.93it/s]\n"
     ]
    }
   ],
   "source": [
    "dataset = LamaHDataset(\"LamaH-CE\",\n",
    "                       years=range(2000, 2016),  # leaving 2016 and 2017 for testing\n",
    "                       window_size_hrs=HPARAMS[\"data\"][\"window_size\"],\n",
    "                       stride_length_hrs=HPARAMS[\"data\"][\"stride_length\"],\n",
    "                       lead_time_hrs=HPARAMS[\"data\"][\"lead_time\"],\n",
    "                       bidirectional=HPARAMS[\"data\"][\"bidirectional\"],\n",
    "                       normalized=HPARAMS[\"data\"][\"normalized\"])"
   ]
  },
  {
   "cell_type": "code",
   "execution_count": null,
   "metadata": {
    "execution": {
     "iopub.execute_input": "2023-04-09T20:46:59.118234Z",
     "iopub.status.busy": "2023-04-09T20:46:59.118042Z",
     "iopub.status.idle": "2023-04-09T20:46:59.147665Z"
    }
   },
   "outputs": [],
   "source": [
    "train_dataset = dataset.subsample_years(y for y in range(2000, 2015) if y % 8 > 0)\n",
    "val_dataset = dataset.subsample_years(y for y in range(2000, 2015) if y % 8 == 0)"
   ]
  },
  {
   "cell_type": "code",
   "execution_count": null,
   "metadata": {
    "colab": {
     "base_uri": "https://localhost:8080/",
     "height": 738
    },
    "execution": {
     "iopub.execute_input": "2023-04-09T20:46:59.148775Z",
     "iopub.status.busy": "2023-04-09T20:46:59.148582Z",
     "iopub.status.idle": "2023-04-09T20:46:59.192511Z"
    },
    "id": "F1zVAyQXkMdk",
    "outputId": "e0a26054-a98a-4b7d-cddf-5d1a762c1884"
   },
   "outputs": [
    {
     "name": "stdout",
     "output_type": "stream",
     "text": [
      "# training samples: 18936\n",
      "# validation samples: 2920\n",
      "# vertices: 375\n",
      "# edges: 1123\n",
      "# vertex features: 24\n",
      "# edge features: 3\n",
      "directed graph?: False\n",
      "isolated vertices? False\n",
      "self-loops? True\n",
      "coalesced? True\n",
      "valid? True\n"
     ]
    },
    {
     "data": {
      "text/plain": [
       "<Figure size 864x648 with 0 Axes>"
      ]
     },
     "metadata": {},
     "output_type": "display_data"
    }
   ],
   "source": [
    "data = val_dataset[0]\n",
    "print(\"# training samples:\", len(train_dataset))\n",
    "print(\"# validation samples:\", len(val_dataset))\n",
    "print(\"# vertices:\", data.num_nodes)\n",
    "print(\"# edges:\", data.num_edges)\n",
    "print(\"# vertex features:\", data.num_node_features)\n",
    "print(\"# edge features:\", data.num_edge_features)\n",
    "print(\"directed graph?:\", data.is_directed())\n",
    "print(\"isolated vertices?\", data.has_isolated_nodes())\n",
    "print(\"self-loops?\", data.has_self_loops())\n",
    "print(\"coalesced?\", data.is_coalesced())\n",
    "print(\"valid?\", data.validate())\n",
    "plt.figure(figsize=(12, 9))\n",
    "graph = to_networkx(data, to_undirected=False)\n",
    "# nx.draw_networkx(graph, pos=nx.drawing.kamada_kawai_layout(graph), with_labels=True, node_color=[tuple(torch.rand(3)) for _ in range(375)])"
   ]
  },
  {
   "cell_type": "code",
   "execution_count": 15,
   "metadata": {
    "colab": {
     "base_uri": "https://localhost:8080/",
     "height": 517
    },
    "execution": {
     "iopub.execute_input": "2023-04-09T20:58:26.265126Z",
     "iopub.status.busy": "2023-04-09T20:58:26.264842Z",
     "iopub.status.idle": "2023-04-09T21:09:14.026663Z",
     "shell.execute_reply": "2023-04-09T21:09:14.025883Z",
     "shell.execute_reply.started": "2023-04-09T20:58:26.265104Z"
    },
    "id": "JDW3LJlrbtfX",
    "outputId": "de09d2bd-7aac-417f-f875-5b308ca23a09"
   },
   "outputs": [
    {
     "name": "stdout",
     "output_type": "stream",
     "text": [
      "================================================================================\n",
      "Layer (type:depth-idx)                                  Param #\n",
      "================================================================================\n",
      "FloodGRAFFNN                                            1,123\n",
      "├─Linear: 1-1                                           3,200\n",
      "├─Linear: 1-2                                           129\n",
      "├─ModuleList: 1-3                                       --\n",
      "│    └─GRAFFConv: 2-1                                   49,152\n",
      "│    └─GRAFFConv: 2-2                                   (recursive)\n",
      "│    └─GRAFFConv: 2-3                                   (recursive)\n",
      "│    └─GRAFFConv: 2-4                                   (recursive)\n",
      "│    └─GRAFFConv: 2-5                                   (recursive)\n",
      "================================================================================\n",
      "Total params: 53,604\n",
      "Trainable params: 53,604\n",
      "Non-trainable params: 0\n",
      "================================================================================\n"
     ]
    },
    {
     "name": "stderr",
     "output_type": "stream",
     "text": [
      "Graph compilation: 100%|██████████| 100/100 [01:58<00:00]\n"
     ]
    },
    {
     "name": "stdout",
     "output_type": "stream",
     "text": [
      "Training on IPU\n"
     ]
    },
    {
     "name": "stderr",
     "output_type": "stream",
     "text": [
      "Training: 100%|██████████| 591/591 [00:04<00:00, 127.92it/s]\n",
      "Validating: 100%|██████████| 91/91 [00:00<00:00, 143.00it/s]\n"
     ]
    },
    {
     "name": "stdout",
     "output_type": "stream",
     "text": [
      "[Epoch 1/100] Train: 2.0135 | Val 0.0298\n"
     ]
    },
    {
     "name": "stderr",
     "output_type": "stream",
     "text": [
      "Training: 100%|██████████| 591/591 [00:04<00:00, 132.01it/s]\n",
      "Validating: 100%|██████████| 91/91 [00:00<00:00, 143.76it/s]\n"
     ]
    },
    {
     "name": "stdout",
     "output_type": "stream",
     "text": [
      "[Epoch 2/100] Train: 0.0339 | Val 0.0206\n"
     ]
    },
    {
     "name": "stderr",
     "output_type": "stream",
     "text": [
      "Training: 100%|██████████| 591/591 [00:04<00:00, 130.90it/s]\n",
      "Validating: 100%|██████████| 91/91 [00:00<00:00, 142.07it/s]\n"
     ]
    },
    {
     "name": "stdout",
     "output_type": "stream",
     "text": [
      "[Epoch 3/100] Train: 0.0355 | Val 0.0306\n"
     ]
    },
    {
     "name": "stderr",
     "output_type": "stream",
     "text": [
      "Training: 100%|██████████| 591/591 [00:04<00:00, 132.59it/s]\n",
      "Validating: 100%|██████████| 91/91 [00:00<00:00, 136.40it/s]\n"
     ]
    },
    {
     "name": "stdout",
     "output_type": "stream",
     "text": [
      "[Epoch 4/100] Train: 0.0272 | Val 0.0208\n"
     ]
    },
    {
     "name": "stderr",
     "output_type": "stream",
     "text": [
      "Training: 100%|██████████| 591/591 [00:04<00:00, 128.29it/s]\n",
      "Validating: 100%|██████████| 91/91 [00:00<00:00, 141.08it/s]\n"
     ]
    },
    {
     "name": "stdout",
     "output_type": "stream",
     "text": [
      "[Epoch 5/100] Train: 0.0234 | Val 0.0189\n"
     ]
    },
    {
     "name": "stderr",
     "output_type": "stream",
     "text": [
      "Training: 100%|██████████| 591/591 [00:04<00:00, 130.93it/s]\n",
      "Validating: 100%|██████████| 91/91 [00:00<00:00, 139.83it/s]\n"
     ]
    },
    {
     "name": "stdout",
     "output_type": "stream",
     "text": [
      "[Epoch 6/100] Train: 0.0241 | Val 0.0143\n"
     ]
    },
    {
     "name": "stderr",
     "output_type": "stream",
     "text": [
      "Training: 100%|██████████| 591/591 [00:04<00:00, 129.73it/s]\n",
      "Validating: 100%|██████████| 91/91 [00:00<00:00, 140.25it/s]\n"
     ]
    },
    {
     "name": "stdout",
     "output_type": "stream",
     "text": [
      "[Epoch 7/100] Train: 0.0235 | Val 0.0183\n"
     ]
    },
    {
     "name": "stderr",
     "output_type": "stream",
     "text": [
      "Training: 100%|██████████| 591/591 [00:04<00:00, 130.82it/s]\n",
      "Validating: 100%|██████████| 91/91 [00:00<00:00, 137.63it/s]\n"
     ]
    },
    {
     "name": "stdout",
     "output_type": "stream",
     "text": [
      "[Epoch 8/100] Train: 0.0282 | Val 0.0143\n"
     ]
    },
    {
     "name": "stderr",
     "output_type": "stream",
     "text": [
      "Training: 100%|██████████| 591/591 [00:04<00:00, 129.83it/s]\n",
      "Validating: 100%|██████████| 91/91 [00:00<00:00, 138.41it/s]\n"
     ]
    },
    {
     "name": "stdout",
     "output_type": "stream",
     "text": [
      "[Epoch 9/100] Train: 0.0260 | Val 0.0136\n"
     ]
    },
    {
     "name": "stderr",
     "output_type": "stream",
     "text": [
      "Training: 100%|██████████| 591/591 [00:05<00:00, 104.90it/s]\n",
      "Validating: 100%|██████████| 91/91 [00:00<00:00, 139.55it/s]\n"
     ]
    },
    {
     "name": "stdout",
     "output_type": "stream",
     "text": [
      "[Epoch 10/100] Train: 0.0427 | Val 0.0174\n"
     ]
    },
    {
     "name": "stderr",
     "output_type": "stream",
     "text": [
      "Training: 100%|██████████| 591/591 [00:04<00:00, 126.80it/s]\n",
      "Validating: 100%|██████████| 91/91 [00:00<00:00, 139.51it/s]\n"
     ]
    },
    {
     "name": "stdout",
     "output_type": "stream",
     "text": [
      "[Epoch 11/100] Train: 0.0258 | Val 0.0135\n"
     ]
    },
    {
     "name": "stderr",
     "output_type": "stream",
     "text": [
      "Training: 100%|██████████| 591/591 [00:04<00:00, 129.82it/s]\n",
      "Validating: 100%|██████████| 91/91 [00:00<00:00, 140.47it/s]\n"
     ]
    },
    {
     "name": "stdout",
     "output_type": "stream",
     "text": [
      "[Epoch 12/100] Train: 0.0320 | Val 0.0141\n"
     ]
    },
    {
     "name": "stderr",
     "output_type": "stream",
     "text": [
      "Training: 100%|██████████| 591/591 [00:04<00:00, 129.59it/s]\n",
      "Validating: 100%|██████████| 91/91 [00:00<00:00, 137.94it/s]\n"
     ]
    },
    {
     "name": "stdout",
     "output_type": "stream",
     "text": [
      "[Epoch 13/100] Train: 0.0210 | Val 0.0306\n"
     ]
    },
    {
     "name": "stderr",
     "output_type": "stream",
     "text": [
      "Training: 100%|██████████| 591/591 [00:04<00:00, 128.64it/s]\n",
      "Validating: 100%|██████████| 91/91 [00:00<00:00, 139.37it/s]\n"
     ]
    },
    {
     "name": "stdout",
     "output_type": "stream",
     "text": [
      "[Epoch 14/100] Train: 0.0221 | Val 0.0126\n"
     ]
    },
    {
     "name": "stderr",
     "output_type": "stream",
     "text": [
      "Training: 100%|██████████| 591/591 [00:04<00:00, 128.55it/s]\n",
      "Validating: 100%|██████████| 91/91 [00:00<00:00, 140.83it/s]\n"
     ]
    },
    {
     "name": "stdout",
     "output_type": "stream",
     "text": [
      "[Epoch 15/100] Train: 0.0252 | Val 0.0135\n"
     ]
    },
    {
     "name": "stderr",
     "output_type": "stream",
     "text": [
      "Training: 100%|██████████| 591/591 [00:04<00:00, 126.70it/s]\n",
      "Validating: 100%|██████████| 91/91 [00:00<00:00, 139.09it/s]\n"
     ]
    },
    {
     "name": "stdout",
     "output_type": "stream",
     "text": [
      "[Epoch 16/100] Train: 0.0280 | Val 0.0130\n"
     ]
    },
    {
     "name": "stderr",
     "output_type": "stream",
     "text": [
      "Training: 100%|██████████| 591/591 [00:04<00:00, 125.93it/s]\n",
      "Validating: 100%|██████████| 91/91 [00:00<00:00, 141.37it/s]\n"
     ]
    },
    {
     "name": "stdout",
     "output_type": "stream",
     "text": [
      "[Epoch 17/100] Train: 0.0234 | Val 0.0127\n"
     ]
    },
    {
     "name": "stderr",
     "output_type": "stream",
     "text": [
      "Training: 100%|██████████| 591/591 [00:04<00:00, 129.49it/s]\n",
      "Validating: 100%|██████████| 91/91 [00:00<00:00, 139.96it/s]\n"
     ]
    },
    {
     "name": "stdout",
     "output_type": "stream",
     "text": [
      "[Epoch 18/100] Train: 0.0241 | Val 0.0119\n"
     ]
    },
    {
     "name": "stderr",
     "output_type": "stream",
     "text": [
      "Training: 100%|██████████| 591/591 [00:04<00:00, 127.75it/s]\n",
      "Validating: 100%|██████████| 91/91 [00:00<00:00, 138.92it/s]\n"
     ]
    },
    {
     "name": "stdout",
     "output_type": "stream",
     "text": [
      "[Epoch 19/100] Train: 0.0220 | Val 0.0484\n"
     ]
    },
    {
     "name": "stderr",
     "output_type": "stream",
     "text": [
      "Training: 100%|██████████| 591/591 [00:04<00:00, 126.91it/s]\n",
      "Validating: 100%|██████████| 91/91 [00:00<00:00, 141.35it/s]\n"
     ]
    },
    {
     "name": "stdout",
     "output_type": "stream",
     "text": [
      "[Epoch 20/100] Train: 0.0195 | Val 0.0120\n"
     ]
    },
    {
     "name": "stderr",
     "output_type": "stream",
     "text": [
      "Training: 100%|██████████| 591/591 [00:04<00:00, 124.59it/s]\n",
      "Validating: 100%|██████████| 91/91 [00:00<00:00, 137.13it/s]\n"
     ]
    },
    {
     "name": "stdout",
     "output_type": "stream",
     "text": [
      "[Epoch 21/100] Train: 0.0179 | Val 0.0116\n"
     ]
    },
    {
     "name": "stderr",
     "output_type": "stream",
     "text": [
      "Training: 100%|██████████| 591/591 [00:04<00:00, 128.93it/s]\n",
      "Validating: 100%|██████████| 91/91 [00:00<00:00, 135.84it/s]\n"
     ]
    },
    {
     "name": "stdout",
     "output_type": "stream",
     "text": [
      "[Epoch 22/100] Train: 21.3758 | Val 0.3572\n"
     ]
    },
    {
     "name": "stderr",
     "output_type": "stream",
     "text": [
      "Training: 100%|██████████| 591/591 [00:04<00:00, 128.04it/s]\n",
      "Validating: 100%|██████████| 91/91 [00:00<00:00, 137.42it/s]\n"
     ]
    },
    {
     "name": "stdout",
     "output_type": "stream",
     "text": [
      "[Epoch 23/100] Train: 0.2465 | Val 4.2010\n"
     ]
    },
    {
     "name": "stderr",
     "output_type": "stream",
     "text": [
      "Training: 100%|██████████| 591/591 [00:04<00:00, 128.51it/s]\n",
      "Validating: 100%|██████████| 91/91 [00:00<00:00, 138.69it/s]\n"
     ]
    },
    {
     "name": "stdout",
     "output_type": "stream",
     "text": [
      "[Epoch 24/100] Train: 0.5986 | Val 0.1159\n"
     ]
    },
    {
     "name": "stderr",
     "output_type": "stream",
     "text": [
      "Training: 100%|██████████| 591/591 [00:04<00:00, 126.35it/s]\n",
      "Validating: 100%|██████████| 91/91 [00:00<00:00, 139.43it/s]\n"
     ]
    },
    {
     "name": "stdout",
     "output_type": "stream",
     "text": [
      "[Epoch 25/100] Train: 0.1369 | Val 4.5419\n"
     ]
    },
    {
     "name": "stderr",
     "output_type": "stream",
     "text": [
      "Training: 100%|██████████| 591/591 [00:04<00:00, 128.27it/s]\n",
      "Validating: 100%|██████████| 91/91 [00:00<00:00, 137.86it/s]\n"
     ]
    },
    {
     "name": "stdout",
     "output_type": "stream",
     "text": [
      "[Epoch 26/100] Train: 0.9938 | Val 0.0540\n"
     ]
    },
    {
     "name": "stderr",
     "output_type": "stream",
     "text": [
      "Training: 100%|██████████| 591/591 [00:04<00:00, 124.15it/s]\n",
      "Validating: 100%|██████████| 91/91 [00:00<00:00, 141.01it/s]\n"
     ]
    },
    {
     "name": "stdout",
     "output_type": "stream",
     "text": [
      "[Epoch 27/100] Train: 0.0821 | Val 0.0493\n"
     ]
    },
    {
     "name": "stderr",
     "output_type": "stream",
     "text": [
      "Training: 100%|██████████| 591/591 [00:04<00:00, 128.72it/s]\n",
      "Validating: 100%|██████████| 91/91 [00:00<00:00, 137.01it/s]\n"
     ]
    },
    {
     "name": "stdout",
     "output_type": "stream",
     "text": [
      "[Epoch 28/100] Train: 0.0555 | Val 11.0017\n"
     ]
    },
    {
     "name": "stderr",
     "output_type": "stream",
     "text": [
      "Training: 100%|██████████| 591/591 [00:04<00:00, 129.37it/s]\n",
      "Validating: 100%|██████████| 91/91 [00:00<00:00, 143.24it/s]\n"
     ]
    },
    {
     "name": "stdout",
     "output_type": "stream",
     "text": [
      "[Epoch 29/100] Train: 1.2865 | Val 0.1532\n"
     ]
    },
    {
     "name": "stderr",
     "output_type": "stream",
     "text": [
      "Training: 100%|██████████| 591/591 [00:04<00:00, 132.81it/s]\n",
      "Validating: 100%|██████████| 91/91 [00:00<00:00, 138.28it/s]\n"
     ]
    },
    {
     "name": "stdout",
     "output_type": "stream",
     "text": [
      "[Epoch 30/100] Train: 0.0582 | Val 0.0369\n"
     ]
    },
    {
     "name": "stderr",
     "output_type": "stream",
     "text": [
      "Training: 100%|██████████| 591/591 [00:04<00:00, 130.18it/s]\n",
      "Validating: 100%|██████████| 91/91 [00:00<00:00, 139.15it/s]\n"
     ]
    },
    {
     "name": "stdout",
     "output_type": "stream",
     "text": [
      "[Epoch 31/100] Train: 0.0465 | Val 0.0773\n"
     ]
    },
    {
     "name": "stderr",
     "output_type": "stream",
     "text": [
      "Training: 100%|██████████| 591/591 [00:04<00:00, 124.57it/s]\n",
      "Validating: 100%|██████████| 91/91 [00:00<00:00, 136.94it/s]\n"
     ]
    },
    {
     "name": "stdout",
     "output_type": "stream",
     "text": [
      "[Epoch 32/100] Train: 0.1685 | Val 2.2931\n"
     ]
    },
    {
     "name": "stderr",
     "output_type": "stream",
     "text": [
      "Training: 100%|██████████| 591/591 [00:04<00:00, 128.29it/s]\n",
      "Validating: 100%|██████████| 91/91 [00:00<00:00, 138.21it/s]\n"
     ]
    },
    {
     "name": "stdout",
     "output_type": "stream",
     "text": [
      "[Epoch 33/100] Train: 0.0330 | Val 0.0196\n"
     ]
    },
    {
     "name": "stderr",
     "output_type": "stream",
     "text": [
      "Training: 100%|██████████| 591/591 [00:04<00:00, 129.40it/s]\n",
      "Validating: 100%|██████████| 91/91 [00:00<00:00, 139.00it/s]\n"
     ]
    },
    {
     "name": "stdout",
     "output_type": "stream",
     "text": [
      "[Epoch 34/100] Train: 0.0261 | Val 0.0917\n"
     ]
    },
    {
     "name": "stderr",
     "output_type": "stream",
     "text": [
      "Training: 100%|██████████| 591/591 [00:04<00:00, 130.98it/s]\n",
      "Validating: 100%|██████████| 91/91 [00:00<00:00, 140.20it/s]\n"
     ]
    },
    {
     "name": "stdout",
     "output_type": "stream",
     "text": [
      "[Epoch 35/100] Train: 0.0531 | Val 0.0166\n"
     ]
    },
    {
     "name": "stderr",
     "output_type": "stream",
     "text": [
      "Training: 100%|██████████| 591/591 [00:04<00:00, 127.37it/s]\n",
      "Validating: 100%|██████████| 91/91 [00:00<00:00, 142.42it/s]\n"
     ]
    },
    {
     "name": "stdout",
     "output_type": "stream",
     "text": [
      "[Epoch 36/100] Train: 0.0267 | Val 0.0179\n"
     ]
    },
    {
     "name": "stderr",
     "output_type": "stream",
     "text": [
      "Training: 100%|██████████| 591/591 [00:04<00:00, 129.93it/s]\n",
      "Validating: 100%|██████████| 91/91 [00:00<00:00, 142.53it/s]\n"
     ]
    },
    {
     "name": "stdout",
     "output_type": "stream",
     "text": [
      "[Epoch 37/100] Train: 0.0816 | Val 0.0158\n"
     ]
    },
    {
     "name": "stderr",
     "output_type": "stream",
     "text": [
      "Training: 100%|██████████| 591/591 [00:04<00:00, 130.27it/s]\n",
      "Validating: 100%|██████████| 91/91 [00:00<00:00, 135.90it/s]\n"
     ]
    },
    {
     "name": "stdout",
     "output_type": "stream",
     "text": [
      "[Epoch 38/100] Train: 0.2432 | Val 0.0164\n"
     ]
    },
    {
     "name": "stderr",
     "output_type": "stream",
     "text": [
      "Training: 100%|██████████| 591/591 [00:04<00:00, 129.12it/s]\n",
      "Validating: 100%|██████████| 91/91 [00:00<00:00, 140.40it/s]\n"
     ]
    },
    {
     "name": "stdout",
     "output_type": "stream",
     "text": [
      "[Epoch 39/100] Train: 0.0202 | Val 0.0169\n"
     ]
    },
    {
     "name": "stderr",
     "output_type": "stream",
     "text": [
      "Training: 100%|██████████| 591/591 [00:04<00:00, 129.10it/s]\n",
      "Validating: 100%|██████████| 91/91 [00:00<00:00, 138.32it/s]\n"
     ]
    },
    {
     "name": "stdout",
     "output_type": "stream",
     "text": [
      "[Epoch 40/100] Train: 0.0198 | Val 0.0141\n"
     ]
    },
    {
     "name": "stderr",
     "output_type": "stream",
     "text": [
      "Training: 100%|██████████| 591/591 [00:04<00:00, 127.37it/s]\n",
      "Validating: 100%|██████████| 91/91 [00:00<00:00, 142.14it/s]\n"
     ]
    },
    {
     "name": "stdout",
     "output_type": "stream",
     "text": [
      "[Epoch 41/100] Train: 0.0343 | Val 0.0158\n"
     ]
    },
    {
     "name": "stderr",
     "output_type": "stream",
     "text": [
      "Training: 100%|██████████| 591/591 [00:04<00:00, 127.88it/s]\n",
      "Validating: 100%|██████████| 91/91 [00:00<00:00, 138.51it/s]\n"
     ]
    },
    {
     "name": "stdout",
     "output_type": "stream",
     "text": [
      "[Epoch 42/100] Train: 0.0434 | Val 0.0159\n"
     ]
    },
    {
     "name": "stderr",
     "output_type": "stream",
     "text": [
      "Training: 100%|██████████| 591/591 [00:04<00:00, 129.52it/s]\n",
      "Validating: 100%|██████████| 91/91 [00:00<00:00, 136.62it/s]\n"
     ]
    },
    {
     "name": "stdout",
     "output_type": "stream",
     "text": [
      "[Epoch 43/100] Train: 0.0268 | Val 0.1616\n"
     ]
    },
    {
     "name": "stderr",
     "output_type": "stream",
     "text": [
      "Training: 100%|██████████| 591/591 [00:04<00:00, 129.75it/s]\n",
      "Validating: 100%|██████████| 91/91 [00:00<00:00, 141.79it/s]\n"
     ]
    },
    {
     "name": "stdout",
     "output_type": "stream",
     "text": [
      "[Epoch 44/100] Train: 0.0226 | Val 0.0139\n"
     ]
    },
    {
     "name": "stderr",
     "output_type": "stream",
     "text": [
      "Training: 100%|██████████| 591/591 [00:04<00:00, 130.73it/s]\n",
      "Validating: 100%|██████████| 91/91 [00:00<00:00, 142.62it/s]\n"
     ]
    },
    {
     "name": "stdout",
     "output_type": "stream",
     "text": [
      "[Epoch 45/100] Train: 0.0193 | Val 0.0131\n"
     ]
    },
    {
     "name": "stderr",
     "output_type": "stream",
     "text": [
      "Training: 100%|██████████| 591/591 [00:04<00:00, 129.15it/s]\n",
      "Validating: 100%|██████████| 91/91 [00:00<00:00, 140.38it/s]\n"
     ]
    },
    {
     "name": "stdout",
     "output_type": "stream",
     "text": [
      "[Epoch 46/100] Train: 0.0227 | Val 0.0675\n"
     ]
    },
    {
     "name": "stderr",
     "output_type": "stream",
     "text": [
      "Training: 100%|██████████| 591/591 [00:04<00:00, 129.61it/s]\n",
      "Validating: 100%|██████████| 91/91 [00:00<00:00, 138.51it/s]\n"
     ]
    },
    {
     "name": "stdout",
     "output_type": "stream",
     "text": [
      "[Epoch 47/100] Train: 0.0248 | Val 0.0133\n"
     ]
    },
    {
     "name": "stderr",
     "output_type": "stream",
     "text": [
      "Training: 100%|██████████| 591/591 [00:04<00:00, 130.96it/s]\n",
      "Validating: 100%|██████████| 91/91 [00:00<00:00, 144.30it/s]\n"
     ]
    },
    {
     "name": "stdout",
     "output_type": "stream",
     "text": [
      "[Epoch 48/100] Train: 0.0207 | Val 0.0134\n"
     ]
    },
    {
     "name": "stderr",
     "output_type": "stream",
     "text": [
      "Training: 100%|██████████| 591/591 [00:04<00:00, 128.56it/s]\n",
      "Validating: 100%|██████████| 91/91 [00:00<00:00, 137.50it/s]\n"
     ]
    },
    {
     "name": "stdout",
     "output_type": "stream",
     "text": [
      "[Epoch 49/100] Train: 0.1925 | Val 0.0168\n"
     ]
    },
    {
     "name": "stderr",
     "output_type": "stream",
     "text": [
      "Training: 100%|██████████| 591/591 [00:04<00:00, 131.21it/s]\n",
      "Validating: 100%|██████████| 91/91 [00:00<00:00, 134.55it/s]\n"
     ]
    },
    {
     "name": "stdout",
     "output_type": "stream",
     "text": [
      "[Epoch 50/100] Train: 0.0319 | Val 0.0197\n"
     ]
    },
    {
     "name": "stderr",
     "output_type": "stream",
     "text": [
      "Training: 100%|██████████| 591/591 [00:04<00:00, 126.68it/s]\n",
      "Validating: 100%|██████████| 91/91 [00:00<00:00, 142.39it/s]\n"
     ]
    },
    {
     "name": "stdout",
     "output_type": "stream",
     "text": [
      "[Epoch 51/100] Train: 0.0252 | Val 0.0202\n"
     ]
    },
    {
     "name": "stderr",
     "output_type": "stream",
     "text": [
      "Training: 100%|██████████| 591/591 [00:04<00:00, 128.71it/s]\n",
      "Validating: 100%|██████████| 91/91 [00:00<00:00, 142.46it/s]\n"
     ]
    },
    {
     "name": "stdout",
     "output_type": "stream",
     "text": [
      "[Epoch 52/100] Train: 0.0345 | Val 0.0138\n"
     ]
    },
    {
     "name": "stderr",
     "output_type": "stream",
     "text": [
      "Training: 100%|██████████| 591/591 [00:04<00:00, 128.85it/s]\n",
      "Validating: 100%|██████████| 91/91 [00:00<00:00, 135.92it/s]\n"
     ]
    },
    {
     "name": "stdout",
     "output_type": "stream",
     "text": [
      "[Epoch 53/100] Train: 0.0387 | Val 0.0139\n"
     ]
    },
    {
     "name": "stderr",
     "output_type": "stream",
     "text": [
      "Training: 100%|██████████| 591/591 [00:04<00:00, 127.75it/s]\n",
      "Validating: 100%|██████████| 91/91 [00:00<00:00, 139.98it/s]\n"
     ]
    },
    {
     "name": "stdout",
     "output_type": "stream",
     "text": [
      "[Epoch 54/100] Train: 0.0199 | Val 0.0233\n"
     ]
    },
    {
     "name": "stderr",
     "output_type": "stream",
     "text": [
      "Training: 100%|██████████| 591/591 [00:04<00:00, 128.88it/s]\n",
      "Validating: 100%|██████████| 91/91 [00:00<00:00, 139.19it/s]\n"
     ]
    },
    {
     "name": "stdout",
     "output_type": "stream",
     "text": [
      "[Epoch 55/100] Train: 0.0197 | Val 0.0133\n"
     ]
    },
    {
     "name": "stderr",
     "output_type": "stream",
     "text": [
      "Training: 100%|██████████| 591/591 [00:04<00:00, 129.98it/s]\n",
      "Validating: 100%|██████████| 91/91 [00:00<00:00, 143.00it/s]\n"
     ]
    },
    {
     "name": "stdout",
     "output_type": "stream",
     "text": [
      "[Epoch 56/100] Train: 0.0244 | Val 0.0153\n"
     ]
    },
    {
     "name": "stderr",
     "output_type": "stream",
     "text": [
      "Training: 100%|██████████| 591/591 [00:04<00:00, 130.73it/s]\n",
      "Validating: 100%|██████████| 91/91 [00:00<00:00, 144.49it/s]\n"
     ]
    },
    {
     "name": "stdout",
     "output_type": "stream",
     "text": [
      "[Epoch 57/100] Train: 0.0258 | Val 0.0139\n"
     ]
    },
    {
     "name": "stderr",
     "output_type": "stream",
     "text": [
      "Training: 100%|██████████| 591/591 [00:04<00:00, 131.21it/s]\n",
      "Validating: 100%|██████████| 91/91 [00:00<00:00, 142.25it/s]\n"
     ]
    },
    {
     "name": "stdout",
     "output_type": "stream",
     "text": [
      "[Epoch 58/100] Train: 0.0197 | Val 0.0137\n"
     ]
    },
    {
     "name": "stderr",
     "output_type": "stream",
     "text": [
      "Training: 100%|██████████| 591/591 [00:04<00:00, 131.16it/s]\n",
      "Validating: 100%|██████████| 91/91 [00:00<00:00, 137.65it/s]\n"
     ]
    },
    {
     "name": "stdout",
     "output_type": "stream",
     "text": [
      "[Epoch 59/100] Train: 0.0203 | Val 0.0136\n"
     ]
    },
    {
     "name": "stderr",
     "output_type": "stream",
     "text": [
      "Training: 100%|██████████| 591/591 [00:04<00:00, 131.46it/s]\n",
      "Validating: 100%|██████████| 91/91 [00:00<00:00, 142.98it/s]\n"
     ]
    },
    {
     "name": "stdout",
     "output_type": "stream",
     "text": [
      "[Epoch 60/100] Train: 6.3682 | Val 0.1968\n"
     ]
    },
    {
     "name": "stderr",
     "output_type": "stream",
     "text": [
      "Training: 100%|██████████| 591/591 [00:04<00:00, 126.81it/s]\n",
      "Validating: 100%|██████████| 91/91 [00:00<00:00, 136.48it/s]\n"
     ]
    },
    {
     "name": "stdout",
     "output_type": "stream",
     "text": [
      "[Epoch 61/100] Train: 0.1164 | Val 0.0385\n"
     ]
    },
    {
     "name": "stderr",
     "output_type": "stream",
     "text": [
      "Training: 100%|██████████| 591/591 [00:04<00:00, 128.64it/s]\n",
      "Validating: 100%|██████████| 91/91 [00:00<00:00, 137.97it/s]\n"
     ]
    },
    {
     "name": "stdout",
     "output_type": "stream",
     "text": [
      "[Epoch 62/100] Train: 0.0441 | Val 0.0278\n"
     ]
    },
    {
     "name": "stderr",
     "output_type": "stream",
     "text": [
      "Training: 100%|██████████| 591/591 [00:04<00:00, 130.10it/s]\n",
      "Validating: 100%|██████████| 91/91 [00:00<00:00, 140.68it/s]\n"
     ]
    },
    {
     "name": "stdout",
     "output_type": "stream",
     "text": [
      "[Epoch 63/100] Train: 0.0542 | Val 0.0232\n"
     ]
    },
    {
     "name": "stderr",
     "output_type": "stream",
     "text": [
      "Training: 100%|██████████| 591/591 [00:04<00:00, 128.30it/s]\n",
      "Validating: 100%|██████████| 91/91 [00:00<00:00, 138.19it/s]\n"
     ]
    },
    {
     "name": "stdout",
     "output_type": "stream",
     "text": [
      "[Epoch 64/100] Train: 0.0263 | Val 0.0185\n"
     ]
    },
    {
     "name": "stderr",
     "output_type": "stream",
     "text": [
      "Training: 100%|██████████| 591/591 [00:04<00:00, 129.69it/s]\n",
      "Validating: 100%|██████████| 91/91 [00:00<00:00, 139.51it/s]\n"
     ]
    },
    {
     "name": "stdout",
     "output_type": "stream",
     "text": [
      "[Epoch 65/100] Train: 0.0262 | Val 0.0182\n"
     ]
    },
    {
     "name": "stderr",
     "output_type": "stream",
     "text": [
      "Training: 100%|██████████| 591/591 [00:04<00:00, 130.59it/s]\n",
      "Validating: 100%|██████████| 91/91 [00:00<00:00, 139.67it/s]\n"
     ]
    },
    {
     "name": "stdout",
     "output_type": "stream",
     "text": [
      "[Epoch 66/100] Train: 0.0316 | Val 0.0196\n"
     ]
    },
    {
     "name": "stderr",
     "output_type": "stream",
     "text": [
      "Training: 100%|██████████| 591/591 [00:04<00:00, 129.14it/s]\n",
      "Validating: 100%|██████████| 91/91 [00:00<00:00, 137.12it/s]\n"
     ]
    },
    {
     "name": "stdout",
     "output_type": "stream",
     "text": [
      "[Epoch 67/100] Train: 0.0267 | Val 0.0467\n"
     ]
    },
    {
     "name": "stderr",
     "output_type": "stream",
     "text": [
      "Training: 100%|██████████| 591/591 [00:04<00:00, 130.76it/s]\n",
      "Validating: 100%|██████████| 91/91 [00:00<00:00, 137.92it/s]\n"
     ]
    },
    {
     "name": "stdout",
     "output_type": "stream",
     "text": [
      "[Epoch 68/100] Train: 0.0277 | Val 0.0235\n"
     ]
    },
    {
     "name": "stderr",
     "output_type": "stream",
     "text": [
      "Training: 100%|██████████| 591/591 [00:04<00:00, 127.77it/s]\n",
      "Validating: 100%|██████████| 91/91 [00:00<00:00, 135.98it/s]\n"
     ]
    },
    {
     "name": "stdout",
     "output_type": "stream",
     "text": [
      "[Epoch 69/100] Train: 0.1887 | Val 0.0144\n"
     ]
    },
    {
     "name": "stderr",
     "output_type": "stream",
     "text": [
      "Training: 100%|██████████| 591/591 [00:04<00:00, 126.90it/s]\n",
      "Validating: 100%|██████████| 91/91 [00:00<00:00, 126.77it/s]\n"
     ]
    },
    {
     "name": "stdout",
     "output_type": "stream",
     "text": [
      "[Epoch 70/100] Train: 0.0204 | Val 0.0164\n"
     ]
    },
    {
     "name": "stderr",
     "output_type": "stream",
     "text": [
      "Training: 100%|██████████| 591/591 [00:04<00:00, 128.99it/s]\n",
      "Validating: 100%|██████████| 91/91 [00:00<00:00, 140.15it/s]\n"
     ]
    },
    {
     "name": "stdout",
     "output_type": "stream",
     "text": [
      "[Epoch 71/100] Train: 0.0218 | Val 0.0148\n"
     ]
    },
    {
     "name": "stderr",
     "output_type": "stream",
     "text": [
      "Training: 100%|██████████| 591/591 [00:04<00:00, 130.72it/s]\n",
      "Validating: 100%|██████████| 91/91 [00:00<00:00, 141.38it/s]\n"
     ]
    },
    {
     "name": "stdout",
     "output_type": "stream",
     "text": [
      "[Epoch 72/100] Train: 8.3463 | Val 0.4240\n"
     ]
    },
    {
     "name": "stderr",
     "output_type": "stream",
     "text": [
      "Training: 100%|██████████| 591/591 [00:04<00:00, 128.14it/s]\n",
      "Validating: 100%|██████████| 91/91 [00:00<00:00, 140.67it/s]\n"
     ]
    },
    {
     "name": "stdout",
     "output_type": "stream",
     "text": [
      "[Epoch 73/100] Train: 0.3732 | Val 0.0808\n"
     ]
    },
    {
     "name": "stderr",
     "output_type": "stream",
     "text": [
      "Training: 100%|██████████| 591/591 [00:04<00:00, 128.44it/s]\n",
      "Validating: 100%|██████████| 91/91 [00:00<00:00, 139.49it/s]\n"
     ]
    },
    {
     "name": "stdout",
     "output_type": "stream",
     "text": [
      "[Epoch 74/100] Train: 0.0331 | Val 0.0519\n"
     ]
    },
    {
     "name": "stderr",
     "output_type": "stream",
     "text": [
      "Training: 100%|██████████| 591/591 [00:04<00:00, 129.75it/s]\n",
      "Validating: 100%|██████████| 91/91 [00:00<00:00, 142.95it/s]\n"
     ]
    },
    {
     "name": "stdout",
     "output_type": "stream",
     "text": [
      "[Epoch 75/100] Train: 0.0252 | Val 0.0418\n"
     ]
    },
    {
     "name": "stderr",
     "output_type": "stream",
     "text": [
      "Training: 100%|██████████| 591/591 [00:04<00:00, 132.10it/s]\n",
      "Validating: 100%|██████████| 91/91 [00:00<00:00, 142.13it/s]\n"
     ]
    },
    {
     "name": "stdout",
     "output_type": "stream",
     "text": [
      "[Epoch 76/100] Train: 0.0242 | Val 0.0295\n"
     ]
    },
    {
     "name": "stderr",
     "output_type": "stream",
     "text": [
      "Training: 100%|██████████| 591/591 [00:04<00:00, 129.17it/s]\n",
      "Validating: 100%|██████████| 91/91 [00:00<00:00, 138.18it/s]\n"
     ]
    },
    {
     "name": "stdout",
     "output_type": "stream",
     "text": [
      "[Epoch 77/100] Train: 0.0246 | Val 0.0580\n"
     ]
    },
    {
     "name": "stderr",
     "output_type": "stream",
     "text": [
      "Training: 100%|██████████| 591/591 [00:04<00:00, 128.25it/s]\n",
      "Validating: 100%|██████████| 91/91 [00:00<00:00, 141.16it/s]\n"
     ]
    },
    {
     "name": "stdout",
     "output_type": "stream",
     "text": [
      "[Epoch 78/100] Train: 0.0230 | Val 0.0201\n"
     ]
    },
    {
     "name": "stderr",
     "output_type": "stream",
     "text": [
      "Training: 100%|██████████| 591/591 [00:04<00:00, 129.81it/s]\n",
      "Validating: 100%|██████████| 91/91 [00:00<00:00, 140.18it/s]\n"
     ]
    },
    {
     "name": "stdout",
     "output_type": "stream",
     "text": [
      "[Epoch 79/100] Train: 0.0599 | Val 0.0168\n"
     ]
    },
    {
     "name": "stderr",
     "output_type": "stream",
     "text": [
      "Training: 100%|██████████| 591/591 [00:04<00:00, 127.22it/s]\n",
      "Validating: 100%|██████████| 91/91 [00:00<00:00, 140.68it/s]\n"
     ]
    },
    {
     "name": "stdout",
     "output_type": "stream",
     "text": [
      "[Epoch 80/100] Train: 0.0446 | Val 1.4294\n"
     ]
    },
    {
     "name": "stderr",
     "output_type": "stream",
     "text": [
      "Training: 100%|██████████| 591/591 [00:04<00:00, 130.15it/s]\n",
      "Validating: 100%|██████████| 91/91 [00:00<00:00, 142.74it/s]\n"
     ]
    },
    {
     "name": "stdout",
     "output_type": "stream",
     "text": [
      "[Epoch 81/100] Train: 0.0263 | Val 0.0149\n"
     ]
    },
    {
     "name": "stderr",
     "output_type": "stream",
     "text": [
      "Training: 100%|██████████| 591/591 [00:04<00:00, 128.60it/s]\n",
      "Validating: 100%|██████████| 91/91 [00:00<00:00, 136.57it/s]\n"
     ]
    },
    {
     "name": "stdout",
     "output_type": "stream",
     "text": [
      "[Epoch 82/100] Train: 0.0213 | Val 0.0143\n"
     ]
    },
    {
     "name": "stderr",
     "output_type": "stream",
     "text": [
      "Training: 100%|██████████| 591/591 [00:04<00:00, 128.28it/s]\n",
      "Validating: 100%|██████████| 91/91 [00:00<00:00, 135.38it/s]\n"
     ]
    },
    {
     "name": "stdout",
     "output_type": "stream",
     "text": [
      "[Epoch 83/100] Train: 0.0217 | Val 0.0148\n"
     ]
    },
    {
     "name": "stderr",
     "output_type": "stream",
     "text": [
      "Training: 100%|██████████| 591/591 [00:04<00:00, 131.62it/s]\n",
      "Validating: 100%|██████████| 91/91 [00:00<00:00, 143.19it/s]\n"
     ]
    },
    {
     "name": "stdout",
     "output_type": "stream",
     "text": [
      "[Epoch 84/100] Train: 0.0262 | Val 0.0141\n"
     ]
    },
    {
     "name": "stderr",
     "output_type": "stream",
     "text": [
      "Training: 100%|██████████| 591/591 [00:04<00:00, 130.08it/s]\n",
      "Validating: 100%|██████████| 91/91 [00:00<00:00, 139.17it/s]\n"
     ]
    },
    {
     "name": "stdout",
     "output_type": "stream",
     "text": [
      "[Epoch 85/100] Train: 0.0532 | Val 0.0140\n"
     ]
    },
    {
     "name": "stderr",
     "output_type": "stream",
     "text": [
      "Training: 100%|██████████| 591/591 [00:04<00:00, 129.45it/s]\n",
      "Validating: 100%|██████████| 91/91 [00:00<00:00, 144.50it/s]\n"
     ]
    },
    {
     "name": "stdout",
     "output_type": "stream",
     "text": [
      "[Epoch 86/100] Train: 0.0257 | Val 0.0164\n"
     ]
    },
    {
     "name": "stderr",
     "output_type": "stream",
     "text": [
      "Training: 100%|██████████| 591/591 [00:04<00:00, 130.14it/s]\n",
      "Validating: 100%|██████████| 91/91 [00:00<00:00, 136.48it/s]\n"
     ]
    },
    {
     "name": "stdout",
     "output_type": "stream",
     "text": [
      "[Epoch 87/100] Train: 0.0221 | Val 0.0139\n"
     ]
    },
    {
     "name": "stderr",
     "output_type": "stream",
     "text": [
      "Training: 100%|██████████| 591/591 [00:04<00:00, 129.51it/s]\n",
      "Validating: 100%|██████████| 91/91 [00:00<00:00, 141.43it/s]\n"
     ]
    },
    {
     "name": "stdout",
     "output_type": "stream",
     "text": [
      "[Epoch 88/100] Train: 5791.6146 | Val 1336.7640\n"
     ]
    },
    {
     "name": "stderr",
     "output_type": "stream",
     "text": [
      "Training: 100%|██████████| 591/591 [00:04<00:00, 128.59it/s]\n",
      "Validating: 100%|██████████| 91/91 [00:00<00:00, 143.41it/s]\n"
     ]
    },
    {
     "name": "stdout",
     "output_type": "stream",
     "text": [
      "[Epoch 89/100] Train: 234480128.1781 | Val 1873185.6790\n"
     ]
    },
    {
     "name": "stderr",
     "output_type": "stream",
     "text": [
      "Training: 100%|██████████| 591/591 [00:04<00:00, 128.99it/s]\n",
      "Validating: 100%|██████████| 91/91 [00:00<00:00, 136.06it/s]\n"
     ]
    },
    {
     "name": "stdout",
     "output_type": "stream",
     "text": [
      "[Epoch 90/100] Train: 1108563.9825 | Val 786310.6181\n"
     ]
    },
    {
     "name": "stderr",
     "output_type": "stream",
     "text": [
      "Training: 100%|██████████| 591/591 [00:04<00:00, 126.19it/s]\n",
      "Validating: 100%|██████████| 91/91 [00:00<00:00, 142.84it/s]\n"
     ]
    },
    {
     "name": "stdout",
     "output_type": "stream",
     "text": [
      "[Epoch 91/100] Train: 1876351.5506 | Val 476105.0548\n"
     ]
    },
    {
     "name": "stderr",
     "output_type": "stream",
     "text": [
      "Training: 100%|██████████| 591/591 [00:04<00:00, 128.33it/s]\n",
      "Validating: 100%|██████████| 91/91 [00:00<00:00, 138.52it/s]\n"
     ]
    },
    {
     "name": "stdout",
     "output_type": "stream",
     "text": [
      "[Epoch 92/100] Train: 302494.5635 | Val 1726138.8112\n"
     ]
    },
    {
     "name": "stderr",
     "output_type": "stream",
     "text": [
      "Training: 100%|██████████| 591/591 [00:04<00:00, 127.47it/s]\n",
      "Validating: 100%|██████████| 91/91 [00:00<00:00, 142.31it/s]\n"
     ]
    },
    {
     "name": "stdout",
     "output_type": "stream",
     "text": [
      "[Epoch 93/100] Train: 166295.0228 | Val 802045.8866\n"
     ]
    },
    {
     "name": "stderr",
     "output_type": "stream",
     "text": [
      "Training: 100%|██████████| 591/591 [00:04<00:00, 132.98it/s]\n",
      "Validating: 100%|██████████| 91/91 [00:00<00:00, 144.44it/s]\n"
     ]
    },
    {
     "name": "stdout",
     "output_type": "stream",
     "text": [
      "[Epoch 94/100] Train: 106046.0871 | Val 112984.7646\n"
     ]
    },
    {
     "name": "stderr",
     "output_type": "stream",
     "text": [
      "Training: 100%|██████████| 591/591 [00:04<00:00, 131.70it/s]\n",
      "Validating: 100%|██████████| 91/91 [00:00<00:00, 142.26it/s]\n"
     ]
    },
    {
     "name": "stdout",
     "output_type": "stream",
     "text": [
      "[Epoch 95/100] Train: 99451.2953 | Val 64929293.0830\n"
     ]
    },
    {
     "name": "stderr",
     "output_type": "stream",
     "text": [
      "Training: 100%|██████████| 591/591 [00:04<00:00, 132.37it/s]\n",
      "Validating: 100%|██████████| 91/91 [00:00<00:00, 144.65it/s]\n"
     ]
    },
    {
     "name": "stdout",
     "output_type": "stream",
     "text": [
      "[Epoch 96/100] Train: 11014915.6970 | Val 178836.1119\n"
     ]
    },
    {
     "name": "stderr",
     "output_type": "stream",
     "text": [
      "Training: 100%|██████████| 591/591 [00:04<00:00, 132.09it/s]\n",
      "Validating: 100%|██████████| 91/91 [00:00<00:00, 140.66it/s]\n"
     ]
    },
    {
     "name": "stdout",
     "output_type": "stream",
     "text": [
      "[Epoch 97/100] Train: 289373.1478 | Val 58740.6497\n"
     ]
    },
    {
     "name": "stderr",
     "output_type": "stream",
     "text": [
      "Training: 100%|██████████| 591/591 [00:04<00:00, 132.48it/s]\n",
      "Validating: 100%|██████████| 91/91 [00:00<00:00, 141.89it/s]\n"
     ]
    },
    {
     "name": "stdout",
     "output_type": "stream",
     "text": [
      "[Epoch 98/100] Train: 81067.4992 | Val 32205.8224\n"
     ]
    },
    {
     "name": "stderr",
     "output_type": "stream",
     "text": [
      "Training: 100%|██████████| 591/591 [00:04<00:00, 130.70it/s]\n",
      "Validating: 100%|██████████| 91/91 [00:00<00:00, 134.57it/s]\n"
     ]
    },
    {
     "name": "stdout",
     "output_type": "stream",
     "text": [
      "[Epoch 99/100] Train: 24314.3745 | Val 4037748.1359\n"
     ]
    },
    {
     "name": "stderr",
     "output_type": "stream",
     "text": [
      "Training: 100%|██████████| 591/591 [00:04<00:00, 128.11it/s]\n",
      "Validating: 100%|██████████| 91/91 [00:00<00:00, 139.24it/s]\n"
     ]
    },
    {
     "name": "stdout",
     "output_type": "stream",
     "text": [
      "[Epoch 100/100] Train: 76158.6426 | Val 32939.4620\n"
     ]
    }
   ],
   "source": [
    "edge_weights = functions.init_edge_weights(HPARAMS[\"model\"][\"adjacency_type\"], data.edge_attr)\n",
    "model = functions.construct_model(HPARAMS, edge_weights)\n",
    "history = functions.train(model, train_dataset, val_dataset, HPARAMS, on_ipu=True)"
   ]
  },
  {
   "cell_type": "code",
   "execution_count": null,
   "metadata": {
    "execution": {
     "iopub.execute_input": "2023-04-09T20:50:28.505125Z",
     "iopub.status.busy": "2023-04-09T20:50:28.504943Z",
     "iopub.status.idle": "2023-04-09T20:50:28.651851Z"
    },
    "id": "d7WXkpJ26Ek0"
   },
   "outputs": [
    {
     "data": {
      "image/png": "[encoded data removed]",
      "text/plain": [
       "<Figure size 432x288 with 1 Axes>"
      ]
     },
     "metadata": {
      "needs_background": "light"
     },
     "output_type": "display_data"
    },
    {
     "name": "stdout",
     "output_type": "stream",
     "text": [
      "0.0487/0.0172\n"
     ]
    }
   ],
   "source": [
    "functions.plot_loss(history[\"train_loss\"], history[\"val_loss\"])\n",
    "best_epoch = torch.tensor(history['val_loss']).argmin()\n",
    "print(f\"{history['train_loss'][best_epoch]:.4f}/{history['val_loss'][best_epoch]:.4f}\")"
   ]
  },
  {
   "cell_type": "code",
   "execution_count": null,
   "metadata": {
    "execution": {
     "iopub.execute_input": "2023-04-09T20:50:28.652742Z",
     "iopub.status.busy": "2023-04-09T20:50:28.652565Z",
     "iopub.status.idle": "2023-04-09T20:50:28.792184Z"
    }
   },
   "outputs": [
    {
     "data": {
      "text/plain": [
       "[<matplotlib.lines.Line2D at 0x7f2cf40a0e80>]"
      ]
     },
     "execution_count": 10,
     "metadata": {},
     "output_type": "execute_result"
    },
    {
     "data": {
      "image/png": "[encoded data removed]",
      "text/plain": [
       "<Figure size 432x288 with 1 Axes>"
      ]
     },
     "metadata": {
      "needs_background": "light"
     },
     "output_type": "display_data"
    }
   ],
   "source": [
    "plt.plot([param[\"edge_weights\"].mean() for param in history[\"model_params\"]])"
   ]
  }
 ],
 "metadata": {
  "accelerator": "GPU",
  "colab": {
   "provenance": []
  },
  "gpuClass": "standard",
  "kernelspec": {
   "display_name": "Python 3",
   "language": "python",
   "name": "python3"
  },
  "language_info": {
   "codemirror_mode": {
    "name": "ipython",
    "version": 3
   },
   "file_extension": ".py",
   "mimetype": "text/x-python",
   "name": "python",
   "nbconvert_exporter": "python",
   "pygments_lexer": "ipython3",
   "version": "3.8.10"
  }
 },
 "nbformat": 4,
 "nbformat_minor": 4
}
