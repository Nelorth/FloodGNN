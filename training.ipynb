{
 "cells": [
  {
   "cell_type": "code",
   "execution_count": 1,
   "metadata": {
    "execution": {
     "iopub.execute_input": "2023-04-19T10:51:18.110261Z",
     "iopub.status.busy": "2023-04-19T10:51:18.110017Z",
     "iopub.status.idle": "2023-04-19T10:51:19.578742Z",
     "shell.execute_reply": "2023-04-19T10:51:19.578046Z",
     "shell.execute_reply.started": "2023-04-19T10:51:18.110241Z"
    }
   },
   "outputs": [
    {
     "name": "stdout",
     "output_type": "stream",
     "text": [
      "\u001b[33mWARNING: Running pip as the 'root' user can result in broken permissions and conflicting behaviour with the system package manager. It is recommended to use a virtual environment instead: https://pip.pypa.io/warnings/venv\u001b[0m\u001b[33m\n",
      "\u001b[0mNote: you may need to restart the kernel to use updated packages.\n"
     ]
    }
   ],
   "source": [
    "%pip install -q matplotlib networkx pandas torchinfo\n",
    "%load_ext autoreload\n",
    "%autoreload 2"
   ]
  },
  {
   "cell_type": "code",
   "execution_count": 2,
   "metadata": {
    "execution": {
     "iopub.execute_input": "2023-04-19T10:51:19.580019Z",
     "iopub.status.busy": "2023-04-19T10:51:19.579851Z",
     "iopub.status.idle": "2023-04-19T10:51:21.391908Z",
     "shell.execute_reply": "2023-04-19T10:51:21.391187Z",
     "shell.execute_reply.started": "2023-04-19T10:51:19.580001Z"
    },
    "id": "t441Wt-pO5Fo"
   },
   "outputs": [],
   "source": [
    "import functions"
   ]
  },
  {
   "cell_type": "code",
   "execution_count": 3,
   "metadata": {
    "execution": {
     "iopub.execute_input": "2023-04-19T10:51:21.393665Z",
     "iopub.status.busy": "2023-04-19T10:51:21.393408Z",
     "iopub.status.idle": "2023-04-19T10:51:21.412695Z",
     "shell.execute_reply": "2023-04-19T10:51:21.412051Z",
     "shell.execute_reply.started": "2023-04-19T10:51:21.393646Z"
    },
    "id": "2WtQH9ixOo7R"
   },
   "outputs": [],
   "source": [
    "HPARAMS = {\n",
    "    \"data\": {\n",
    "        \"window_size\": 24,\n",
    "        \"stride_length\": 1,\n",
    "        \"lead_time\": 1,\n",
    "        \"edge_direction\": \"bidirectional\",\n",
    "        \"normalized\": True\n",
    "    },\n",
    "    \"model\": {\n",
    "        \"architecture\": \"ResGCN\",\n",
    "        \"num_layers\": 20,\n",
    "        \"hidden_channels\": 64,\n",
    "        \"param_sharing\": False,\n",
    "        \"graff_step_size\": 1,\n",
    "        \"adjacency_type\": \"learned\"\n",
    "    },\n",
    "    \"training\": {\n",
    "        \"num_epochs\": 20,\n",
    "        \"batch_size\": 16,\n",
    "        \"learning_rate\": 1e-4,\n",
    "        \"weight_decay\": 0,\n",
    "        \"random_seed\": 42,\n",
    "        \"holdout_size\": 0.25\n",
    "    }\n",
    "}"
   ]
  },
  {
   "cell_type": "code",
   "execution_count": 4,
   "metadata": {
    "execution": {
     "iopub.execute_input": "2023-04-19T10:51:21.413871Z",
     "iopub.status.busy": "2023-04-19T10:51:21.413695Z",
     "iopub.status.idle": "2023-04-19T10:51:21.432685Z",
     "shell.execute_reply": "2023-04-19T10:51:21.432083Z",
     "shell.execute_reply.started": "2023-04-19T10:51:21.413854Z"
    },
    "id": "cSz0Dz2zkKGg"
   },
   "outputs": [],
   "source": [
    "functions.ensure_reproducibility(HPARAMS[\"training\"][\"random_seed\"])"
   ]
  },
  {
   "cell_type": "code",
   "execution_count": 5,
   "metadata": {
    "colab": {
     "base_uri": "https://localhost:8080/",
     "height": 517
    },
    "execution": {
     "iopub.execute_input": "2023-04-19T10:51:21.433721Z",
     "iopub.status.busy": "2023-04-19T10:51:21.433542Z",
     "iopub.status.idle": "2023-04-19T13:38:12.403546Z",
     "shell.execute_reply": "2023-04-19T13:38:12.402760Z",
     "shell.execute_reply.started": "2023-04-19T10:51:21.433704Z"
    },
    "id": "JDW3LJlrbtfX",
    "outputId": "de09d2bd-7aac-417f-f875-5b308ca23a09"
   },
   "outputs": [
    {
     "name": "stdout",
     "output_type": "stream",
     "text": [
      "Loading dataset into memory...\n"
     ]
    },
    {
     "name": "stderr",
     "output_type": "stream",
     "text": [
      "100%|██████████| 375/375 [00:29<00:00, 12.62it/s]\n"
     ]
    },
    {
     "name": "stdout",
     "output_type": "stream",
     "text": [
      "=================================================================\n",
      "Layer (type:depth-idx)                   Param #\n",
      "=================================================================\n",
      "ResGCN                                   --\n",
      "├─Linear: 1-1                            1,600\n",
      "├─Linear: 1-2                            65\n",
      "├─ModuleList: 1-3                        --\n",
      "│    └─GCNConv: 2-1                      4,160\n",
      "│    └─GCNConv: 2-2                      4,160\n",
      "│    └─GCNConv: 2-3                      4,160\n",
      "│    └─GCNConv: 2-4                      4,160\n",
      "│    └─GCNConv: 2-5                      4,160\n",
      "│    └─GCNConv: 2-6                      4,160\n",
      "│    └─GCNConv: 2-7                      4,160\n",
      "│    └─GCNConv: 2-8                      4,160\n",
      "│    └─GCNConv: 2-9                      4,160\n",
      "│    └─GCNConv: 2-10                     4,160\n",
      "│    └─GCNConv: 2-11                     4,160\n",
      "│    └─GCNConv: 2-12                     4,160\n",
      "│    └─GCNConv: 2-13                     4,160\n",
      "│    └─GCNConv: 2-14                     4,160\n",
      "│    └─GCNConv: 2-15                     4,160\n",
      "│    └─GCNConv: 2-16                     4,160\n",
      "│    └─GCNConv: 2-17                     4,160\n",
      "│    └─GCNConv: 2-18                     4,160\n",
      "│    └─GCNConv: 2-19                     4,160\n",
      "│    └─GCNConv: 2-20                     4,160\n",
      "=================================================================\n",
      "Total params: 84,865\n",
      "Trainable params: 84,865\n",
      "Non-trainable params: 0\n",
      "=================================================================\n"
     ]
    },
    {
     "name": "stderr",
     "output_type": "stream",
     "text": [
      "Graph compilation: 100%|██████████| 100/100 [02:06<00:00]\n"
     ]
    },
    {
     "name": "stdout",
     "output_type": "stream",
     "text": [
      "Training on IPU\n"
     ]
    },
    {
     "name": "stderr",
     "output_type": "stream",
     "text": [
      "Training: 100%|██████████| 6556/6556 [00:55<00:00, 118.13it/s]\n",
      "Validating: 100%|██████████| 2185/2185 [00:18<00:00, 119.08it/s]\n",
      "/usr/local/lib/python3.8/dist-packages/torch/nn/modules/module.py:1432: UserWarning: Positional args are being deprecated, use kwargs instead. Refer to https://pytorch.org/docs/master/generated/torch.nn.Module.html#torch.nn.Module.state_dict for details.\n",
      "  warnings.warn(\n"
     ]
    },
    {
     "name": "stdout",
     "output_type": "stream",
     "text": [
      "[Epoch 1/20] Train: 92.7849 | Val 0.7559\n"
     ]
    },
    {
     "name": "stderr",
     "output_type": "stream",
     "text": [
      "Training: 100%|██████████| 6556/6556 [00:55<00:00, 119.12it/s]\n",
      "Validating: 100%|██████████| 2185/2185 [00:18<00:00, 118.48it/s]\n"
     ]
    },
    {
     "name": "stdout",
     "output_type": "stream",
     "text": [
      "[Epoch 2/20] Train: 0.7874 | Val 0.1367\n"
     ]
    },
    {
     "name": "stderr",
     "output_type": "stream",
     "text": [
      "Training: 100%|██████████| 6556/6556 [00:54<00:00, 119.69it/s]\n",
      "Validating: 100%|██████████| 2185/2185 [00:18<00:00, 119.39it/s]\n"
     ]
    },
    {
     "name": "stdout",
     "output_type": "stream",
     "text": [
      "[Epoch 3/20] Train: 0.1274 | Val 0.0589\n"
     ]
    },
    {
     "name": "stderr",
     "output_type": "stream",
     "text": [
      "Training: 100%|██████████| 6556/6556 [00:54<00:00, 119.49it/s]\n",
      "Validating: 100%|██████████| 2185/2185 [00:18<00:00, 119.15it/s]\n"
     ]
    },
    {
     "name": "stdout",
     "output_type": "stream",
     "text": [
      "[Epoch 4/20] Train: 0.0342 | Val 0.0343\n"
     ]
    },
    {
     "name": "stderr",
     "output_type": "stream",
     "text": [
      "Training: 100%|██████████| 6556/6556 [00:54<00:00, 119.21it/s]\n",
      "Validating: 100%|██████████| 2185/2185 [00:18<00:00, 119.01it/s]\n"
     ]
    },
    {
     "name": "stdout",
     "output_type": "stream",
     "text": [
      "[Epoch 5/20] Train: 0.0220 | Val 0.0231\n"
     ]
    },
    {
     "name": "stderr",
     "output_type": "stream",
     "text": [
      "Training: 100%|██████████| 6556/6556 [00:54<00:00, 119.77it/s]\n",
      "Validating: 100%|██████████| 2185/2185 [00:18<00:00, 120.25it/s]\n"
     ]
    },
    {
     "name": "stdout",
     "output_type": "stream",
     "text": [
      "[Epoch 6/20] Train: 0.0196 | Val 0.0217\n"
     ]
    },
    {
     "name": "stderr",
     "output_type": "stream",
     "text": [
      "Training: 100%|██████████| 6556/6556 [00:55<00:00, 118.47it/s]\n",
      "Validating: 100%|██████████| 2185/2185 [00:18<00:00, 118.81it/s]\n"
     ]
    },
    {
     "name": "stdout",
     "output_type": "stream",
     "text": [
      "[Epoch 7/20] Train: 0.0180 | Val 0.0207\n"
     ]
    },
    {
     "name": "stderr",
     "output_type": "stream",
     "text": [
      "Training: 100%|██████████| 6556/6556 [00:54<00:00, 119.23it/s]\n",
      "Validating: 100%|██████████| 2185/2185 [00:18<00:00, 120.69it/s]\n"
     ]
    },
    {
     "name": "stdout",
     "output_type": "stream",
     "text": [
      "[Epoch 8/20] Train: 0.0173 | Val 0.0199\n"
     ]
    },
    {
     "name": "stderr",
     "output_type": "stream",
     "text": [
      "Training: 100%|██████████| 6556/6556 [00:54<00:00, 119.97it/s]\n",
      "Validating: 100%|██████████| 2185/2185 [00:18<00:00, 119.91it/s]\n"
     ]
    },
    {
     "name": "stdout",
     "output_type": "stream",
     "text": [
      "[Epoch 9/20] Train: 0.0169 | Val 0.0197\n"
     ]
    },
    {
     "name": "stderr",
     "output_type": "stream",
     "text": [
      "Training: 100%|██████████| 6556/6556 [00:54<00:00, 120.57it/s]\n",
      "Validating: 100%|██████████| 2185/2185 [00:18<00:00, 119.53it/s]\n"
     ]
    },
    {
     "name": "stdout",
     "output_type": "stream",
     "text": [
      "[Epoch 10/20] Train: 0.0166 | Val 0.0188\n"
     ]
    },
    {
     "name": "stderr",
     "output_type": "stream",
     "text": [
      "Training: 100%|██████████| 6556/6556 [00:54<00:00, 120.39it/s]\n",
      "Validating: 100%|██████████| 2185/2185 [00:18<00:00, 120.85it/s]\n"
     ]
    },
    {
     "name": "stdout",
     "output_type": "stream",
     "text": [
      "[Epoch 11/20] Train: 0.0164 | Val 0.0187\n"
     ]
    },
    {
     "name": "stderr",
     "output_type": "stream",
     "text": [
      "Training: 100%|██████████| 6556/6556 [00:54<00:00, 121.11it/s]\n",
      "Validating: 100%|██████████| 2185/2185 [00:17<00:00, 121.86it/s]\n"
     ]
    },
    {
     "name": "stdout",
     "output_type": "stream",
     "text": [
      "[Epoch 12/20] Train: 0.0162 | Val 0.0184\n"
     ]
    },
    {
     "name": "stderr",
     "output_type": "stream",
     "text": [
      "Training: 100%|██████████| 6556/6556 [00:53<00:00, 122.34it/s]\n",
      "Validating: 100%|██████████| 2185/2185 [00:17<00:00, 122.59it/s]\n"
     ]
    },
    {
     "name": "stdout",
     "output_type": "stream",
     "text": [
      "[Epoch 13/20] Train: 0.0161 | Val 0.0181\n"
     ]
    },
    {
     "name": "stderr",
     "output_type": "stream",
     "text": [
      "Training: 100%|██████████| 6556/6556 [00:54<00:00, 121.08it/s]\n",
      "Validating: 100%|██████████| 2185/2185 [00:17<00:00, 121.78it/s]\n"
     ]
    },
    {
     "name": "stdout",
     "output_type": "stream",
     "text": [
      "[Epoch 14/20] Train: 0.0160 | Val 0.0180\n"
     ]
    },
    {
     "name": "stderr",
     "output_type": "stream",
     "text": [
      "Training: 100%|██████████| 6556/6556 [00:53<00:00, 121.52it/s]\n",
      "Validating: 100%|██████████| 2185/2185 [00:17<00:00, 121.56it/s]\n"
     ]
    },
    {
     "name": "stdout",
     "output_type": "stream",
     "text": [
      "[Epoch 15/20] Train: 0.0160 | Val 0.0177\n"
     ]
    },
    {
     "name": "stderr",
     "output_type": "stream",
     "text": [
      "Training: 100%|██████████| 6556/6556 [00:53<00:00, 121.71it/s]\n",
      "Validating: 100%|██████████| 2185/2185 [00:18<00:00, 120.91it/s]\n"
     ]
    },
    {
     "name": "stdout",
     "output_type": "stream",
     "text": [
      "[Epoch 16/20] Train: 0.0159 | Val 0.0179\n"
     ]
    },
    {
     "name": "stderr",
     "output_type": "stream",
     "text": [
      "Training: 100%|██████████| 6556/6556 [00:53<00:00, 122.28it/s]\n",
      "Validating: 100%|██████████| 2185/2185 [00:18<00:00, 120.95it/s]\n"
     ]
    },
    {
     "name": "stdout",
     "output_type": "stream",
     "text": [
      "[Epoch 17/20] Train: 0.0158 | Val 0.0180\n"
     ]
    },
    {
     "name": "stderr",
     "output_type": "stream",
     "text": [
      "Training: 100%|██████████| 6556/6556 [00:53<00:00, 121.62it/s]\n",
      "Validating: 100%|██████████| 2185/2185 [00:17<00:00, 121.47it/s]\n"
     ]
    },
    {
     "name": "stdout",
     "output_type": "stream",
     "text": [
      "[Epoch 18/20] Train: 0.0157 | Val 0.0176\n"
     ]
    },
    {
     "name": "stderr",
     "output_type": "stream",
     "text": [
      "Training: 100%|██████████| 6556/6556 [00:53<00:00, 121.57it/s]\n",
      "Validating: 100%|██████████| 2185/2185 [00:17<00:00, 121.83it/s]\n"
     ]
    },
    {
     "name": "stdout",
     "output_type": "stream",
     "text": [
      "[Epoch 19/20] Train: 0.0156 | Val 0.0182\n"
     ]
    },
    {
     "name": "stderr",
     "output_type": "stream",
     "text": [
      "Training: 100%|██████████| 6556/6556 [00:53<00:00, 121.85it/s]\n",
      "Validating: 100%|██████████| 2185/2185 [00:17<00:00, 121.73it/s]\n"
     ]
    },
    {
     "name": "stdout",
     "output_type": "stream",
     "text": [
      "[Epoch 20/20] Train: 0.0155 | Val 0.0179\n",
      "Loading dataset into memory...\n"
     ]
    },
    {
     "name": "stderr",
     "output_type": "stream",
     "text": [
      "100%|██████████| 375/375 [00:28<00:00, 12.98it/s]\n"
     ]
    },
    {
     "name": "stdout",
     "output_type": "stream",
     "text": [
      "=================================================================\n",
      "Layer (type:depth-idx)                   Param #\n",
      "=================================================================\n",
      "ResGCN                                   --\n",
      "├─Linear: 1-1                            1,600\n",
      "├─Linear: 1-2                            65\n",
      "├─ModuleList: 1-3                        --\n",
      "│    └─GCNConv: 2-1                      4,160\n",
      "│    └─GCNConv: 2-2                      4,160\n",
      "│    └─GCNConv: 2-3                      4,160\n",
      "│    └─GCNConv: 2-4                      4,160\n",
      "│    └─GCNConv: 2-5                      4,160\n",
      "│    └─GCNConv: 2-6                      4,160\n",
      "│    └─GCNConv: 2-7                      4,160\n",
      "│    └─GCNConv: 2-8                      4,160\n",
      "│    └─GCNConv: 2-9                      4,160\n",
      "│    └─GCNConv: 2-10                     4,160\n",
      "│    └─GCNConv: 2-11                     4,160\n",
      "│    └─GCNConv: 2-12                     4,160\n",
      "│    └─GCNConv: 2-13                     4,160\n",
      "│    └─GCNConv: 2-14                     4,160\n",
      "│    └─GCNConv: 2-15                     4,160\n",
      "│    └─GCNConv: 2-16                     4,160\n",
      "│    └─GCNConv: 2-17                     4,160\n",
      "│    └─GCNConv: 2-18                     4,160\n",
      "│    └─GCNConv: 2-19                     4,160\n",
      "│    └─GCNConv: 2-20                     4,160\n",
      "=================================================================\n",
      "Total params: 84,865\n",
      "Trainable params: 84,865\n",
      "Non-trainable params: 0\n",
      "=================================================================\n"
     ]
    },
    {
     "name": "stderr",
     "output_type": "stream",
     "text": [
      "Graph compilation: 100%|██████████| 100/100 [02:03<00:00]\n"
     ]
    },
    {
     "name": "stdout",
     "output_type": "stream",
     "text": [
      "Training on IPU\n"
     ]
    },
    {
     "name": "stderr",
     "output_type": "stream",
     "text": [
      "Training: 100%|██████████| 6556/6556 [00:54<00:00, 120.22it/s]\n",
      "Validating: 100%|██████████| 2185/2185 [00:18<00:00, 120.75it/s]\n",
      "/usr/local/lib/python3.8/dist-packages/torch/nn/modules/module.py:1432: UserWarning: Positional args are being deprecated, use kwargs instead. Refer to https://pytorch.org/docs/master/generated/torch.nn.Module.html#torch.nn.Module.state_dict for details.\n",
      "  warnings.warn(\n"
     ]
    },
    {
     "name": "stdout",
     "output_type": "stream",
     "text": [
      "[Epoch 1/20] Train: 2080.5449 | Val 13.2546\n"
     ]
    },
    {
     "name": "stderr",
     "output_type": "stream",
     "text": [
      "Training: 100%|██████████| 6556/6556 [00:54<00:00, 120.03it/s]\n",
      "Validating: 100%|██████████| 2185/2185 [00:18<00:00, 120.36it/s]\n"
     ]
    },
    {
     "name": "stdout",
     "output_type": "stream",
     "text": [
      "[Epoch 2/20] Train: 9.7689 | Val 0.7618\n"
     ]
    },
    {
     "name": "stderr",
     "output_type": "stream",
     "text": [
      "Training: 100%|██████████| 6556/6556 [00:54<00:00, 119.96it/s]\n",
      "Validating: 100%|██████████| 2185/2185 [00:18<00:00, 119.74it/s]\n"
     ]
    },
    {
     "name": "stdout",
     "output_type": "stream",
     "text": [
      "[Epoch 3/20] Train: 0.2831 | Val 0.0894\n"
     ]
    },
    {
     "name": "stderr",
     "output_type": "stream",
     "text": [
      "Training: 100%|██████████| 6556/6556 [00:58<00:00, 112.47it/s]\n",
      "Validating: 100%|██████████| 2185/2185 [00:18<00:00, 115.09it/s]\n"
     ]
    },
    {
     "name": "stdout",
     "output_type": "stream",
     "text": [
      "[Epoch 4/20] Train: 0.0505 | Val 0.0307\n"
     ]
    },
    {
     "name": "stderr",
     "output_type": "stream",
     "text": [
      "Training: 100%|██████████| 6556/6556 [00:57<00:00, 113.91it/s]\n",
      "Validating: 100%|██████████| 2185/2185 [00:19<00:00, 114.16it/s]\n"
     ]
    },
    {
     "name": "stdout",
     "output_type": "stream",
     "text": [
      "[Epoch 5/20] Train: 0.0292 | Val 0.0232\n"
     ]
    },
    {
     "name": "stderr",
     "output_type": "stream",
     "text": [
      "Training: 100%|██████████| 6556/6556 [00:56<00:00, 115.73it/s]\n",
      "Validating: 100%|██████████| 2185/2185 [00:18<00:00, 116.02it/s]\n"
     ]
    },
    {
     "name": "stdout",
     "output_type": "stream",
     "text": [
      "[Epoch 6/20] Train: 0.0218 | Val 0.0201\n"
     ]
    },
    {
     "name": "stderr",
     "output_type": "stream",
     "text": [
      "Training: 100%|██████████| 6556/6556 [00:57<00:00, 114.77it/s]\n",
      "Validating: 100%|██████████| 2185/2185 [00:19<00:00, 114.22it/s]\n"
     ]
    },
    {
     "name": "stdout",
     "output_type": "stream",
     "text": [
      "[Epoch 7/20] Train: 0.0196 | Val 0.0188\n"
     ]
    },
    {
     "name": "stderr",
     "output_type": "stream",
     "text": [
      "Training: 100%|██████████| 6556/6556 [00:57<00:00, 114.64it/s]\n",
      "Validating: 100%|██████████| 2185/2185 [00:19<00:00, 114.31it/s]\n"
     ]
    },
    {
     "name": "stdout",
     "output_type": "stream",
     "text": [
      "[Epoch 8/20] Train: 0.0181 | Val 0.0181\n"
     ]
    },
    {
     "name": "stderr",
     "output_type": "stream",
     "text": [
      "Training: 100%|██████████| 6556/6556 [00:57<00:00, 114.89it/s]\n",
      "Validating: 100%|██████████| 2185/2185 [00:18<00:00, 115.32it/s]\n"
     ]
    },
    {
     "name": "stdout",
     "output_type": "stream",
     "text": [
      "[Epoch 9/20] Train: 0.0176 | Val 0.0178\n"
     ]
    },
    {
     "name": "stderr",
     "output_type": "stream",
     "text": [
      "Training: 100%|██████████| 6556/6556 [00:57<00:00, 114.26it/s]\n",
      "Validating: 100%|██████████| 2185/2185 [00:19<00:00, 113.29it/s]\n"
     ]
    },
    {
     "name": "stdout",
     "output_type": "stream",
     "text": [
      "[Epoch 10/20] Train: 0.0171 | Val 0.0175\n"
     ]
    },
    {
     "name": "stderr",
     "output_type": "stream",
     "text": [
      "Training: 100%|██████████| 6556/6556 [00:57<00:00, 113.85it/s]\n",
      "Validating: 100%|██████████| 2185/2185 [00:19<00:00, 113.86it/s]\n"
     ]
    },
    {
     "name": "stdout",
     "output_type": "stream",
     "text": [
      "[Epoch 11/20] Train: 0.0165 | Val 0.0174\n"
     ]
    },
    {
     "name": "stderr",
     "output_type": "stream",
     "text": [
      "Training: 100%|██████████| 6556/6556 [00:57<00:00, 113.73it/s]\n",
      "Validating: 100%|██████████| 2185/2185 [00:19<00:00, 114.64it/s]\n"
     ]
    },
    {
     "name": "stdout",
     "output_type": "stream",
     "text": [
      "[Epoch 12/20] Train: 0.0165 | Val 0.0170\n"
     ]
    },
    {
     "name": "stderr",
     "output_type": "stream",
     "text": [
      "Training: 100%|██████████| 6556/6556 [00:56<00:00, 115.19it/s]\n",
      "Validating: 100%|██████████| 2185/2185 [00:19<00:00, 114.98it/s]\n"
     ]
    },
    {
     "name": "stdout",
     "output_type": "stream",
     "text": [
      "[Epoch 13/20] Train: 0.0163 | Val 0.0169\n"
     ]
    },
    {
     "name": "stderr",
     "output_type": "stream",
     "text": [
      "Training: 100%|██████████| 6556/6556 [00:57<00:00, 113.18it/s]\n",
      "Validating: 100%|██████████| 2185/2185 [00:19<00:00, 113.82it/s]\n"
     ]
    },
    {
     "name": "stdout",
     "output_type": "stream",
     "text": [
      "[Epoch 14/20] Train: 0.0159 | Val 0.0168\n"
     ]
    },
    {
     "name": "stderr",
     "output_type": "stream",
     "text": [
      "Training: 100%|██████████| 6556/6556 [00:57<00:00, 113.23it/s]\n",
      "Validating: 100%|██████████| 2185/2185 [00:19<00:00, 113.41it/s]\n"
     ]
    },
    {
     "name": "stdout",
     "output_type": "stream",
     "text": [
      "[Epoch 15/20] Train: 0.0158 | Val 0.0167\n"
     ]
    },
    {
     "name": "stderr",
     "output_type": "stream",
     "text": [
      "Training: 100%|██████████| 6556/6556 [00:57<00:00, 113.62it/s]\n",
      "Validating: 100%|██████████| 2185/2185 [00:19<00:00, 113.20it/s]\n"
     ]
    },
    {
     "name": "stdout",
     "output_type": "stream",
     "text": [
      "[Epoch 16/20] Train: 0.0156 | Val 0.0164\n"
     ]
    },
    {
     "name": "stderr",
     "output_type": "stream",
     "text": [
      "Training: 100%|██████████| 6556/6556 [00:57<00:00, 114.01it/s]\n",
      "Validating: 100%|██████████| 2185/2185 [00:19<00:00, 113.58it/s]\n"
     ]
    },
    {
     "name": "stdout",
     "output_type": "stream",
     "text": [
      "[Epoch 17/20] Train: 0.0154 | Val 0.0165\n"
     ]
    },
    {
     "name": "stderr",
     "output_type": "stream",
     "text": [
      "Training: 100%|██████████| 6556/6556 [00:57<00:00, 114.39it/s]\n",
      "Validating: 100%|██████████| 2185/2185 [00:19<00:00, 113.70it/s]\n"
     ]
    },
    {
     "name": "stdout",
     "output_type": "stream",
     "text": [
      "[Epoch 18/20] Train: 0.0154 | Val 0.0164\n"
     ]
    },
    {
     "name": "stderr",
     "output_type": "stream",
     "text": [
      "Training: 100%|██████████| 6556/6556 [00:57<00:00, 114.28it/s]\n",
      "Validating: 100%|██████████| 2185/2185 [00:19<00:00, 114.69it/s]\n"
     ]
    },
    {
     "name": "stdout",
     "output_type": "stream",
     "text": [
      "[Epoch 19/20] Train: 0.0154 | Val 0.0162\n"
     ]
    },
    {
     "name": "stderr",
     "output_type": "stream",
     "text": [
      "Training: 100%|██████████| 6556/6556 [00:57<00:00, 114.13it/s]\n",
      "Validating: 100%|██████████| 2185/2185 [00:19<00:00, 113.75it/s]\n"
     ]
    },
    {
     "name": "stdout",
     "output_type": "stream",
     "text": [
      "[Epoch 20/20] Train: 0.0152 | Val 0.0161\n",
      "Loading dataset into memory...\n"
     ]
    },
    {
     "name": "stderr",
     "output_type": "stream",
     "text": [
      "100%|██████████| 375/375 [00:29<00:00, 12.58it/s]\n"
     ]
    },
    {
     "name": "stdout",
     "output_type": "stream",
     "text": [
      "=================================================================\n",
      "Layer (type:depth-idx)                   Param #\n",
      "=================================================================\n",
      "ResGCN                                   --\n",
      "├─Linear: 1-1                            1,600\n",
      "├─Linear: 1-2                            65\n",
      "├─ModuleList: 1-3                        --\n",
      "│    └─GCNConv: 2-1                      4,160\n",
      "│    └─GCNConv: 2-2                      4,160\n",
      "│    └─GCNConv: 2-3                      4,160\n",
      "│    └─GCNConv: 2-4                      4,160\n",
      "│    └─GCNConv: 2-5                      4,160\n",
      "│    └─GCNConv: 2-6                      4,160\n",
      "│    └─GCNConv: 2-7                      4,160\n",
      "│    └─GCNConv: 2-8                      4,160\n",
      "│    └─GCNConv: 2-9                      4,160\n",
      "│    └─GCNConv: 2-10                     4,160\n",
      "│    └─GCNConv: 2-11                     4,160\n",
      "│    └─GCNConv: 2-12                     4,160\n",
      "│    └─GCNConv: 2-13                     4,160\n",
      "│    └─GCNConv: 2-14                     4,160\n",
      "│    └─GCNConv: 2-15                     4,160\n",
      "│    └─GCNConv: 2-16                     4,160\n",
      "│    └─GCNConv: 2-17                     4,160\n",
      "│    └─GCNConv: 2-18                     4,160\n",
      "│    └─GCNConv: 2-19                     4,160\n",
      "│    └─GCNConv: 2-20                     4,160\n",
      "=================================================================\n",
      "Total params: 84,865\n",
      "Trainable params: 84,865\n",
      "Non-trainable params: 0\n",
      "=================================================================\n"
     ]
    },
    {
     "name": "stderr",
     "output_type": "stream",
     "text": [
      "Graph compilation: 100%|██████████| 100/100 [00:02<00:00]\n"
     ]
    },
    {
     "name": "stdout",
     "output_type": "stream",
     "text": [
      "Training on IPU\n"
     ]
    },
    {
     "name": "stderr",
     "output_type": "stream",
     "text": [
      "Training: 100%|██████████| 6556/6556 [00:58<00:00, 113.03it/s]\n",
      "Validating: 100%|██████████| 2185/2185 [00:18<00:00, 118.10it/s]\n",
      "/usr/local/lib/python3.8/dist-packages/torch/nn/modules/module.py:1432: UserWarning: Positional args are being deprecated, use kwargs instead. Refer to https://pytorch.org/docs/master/generated/torch.nn.Module.html#torch.nn.Module.state_dict for details.\n",
      "  warnings.warn(\n"
     ]
    },
    {
     "name": "stdout",
     "output_type": "stream",
     "text": [
      "[Epoch 1/20] Train: 28.2174 | Val 2.0193\n"
     ]
    },
    {
     "name": "stderr",
     "output_type": "stream",
     "text": [
      "Training: 100%|██████████| 6556/6556 [00:56<00:00, 115.90it/s]\n",
      "Validating: 100%|██████████| 2185/2185 [00:18<00:00, 116.62it/s]\n"
     ]
    },
    {
     "name": "stdout",
     "output_type": "stream",
     "text": [
      "[Epoch 2/20] Train: 0.5740 | Val 0.4289\n"
     ]
    },
    {
     "name": "stderr",
     "output_type": "stream",
     "text": [
      "Training: 100%|██████████| 6556/6556 [00:56<00:00, 116.14it/s]\n",
      "Validating: 100%|██████████| 2185/2185 [00:18<00:00, 116.57it/s]\n"
     ]
    },
    {
     "name": "stdout",
     "output_type": "stream",
     "text": [
      "[Epoch 3/20] Train: 0.0652 | Val 0.0702\n"
     ]
    },
    {
     "name": "stderr",
     "output_type": "stream",
     "text": [
      "Training: 100%|██████████| 6556/6556 [00:56<00:00, 115.57it/s]\n",
      "Validating: 100%|██████████| 2185/2185 [00:18<00:00, 115.55it/s]\n"
     ]
    },
    {
     "name": "stdout",
     "output_type": "stream",
     "text": [
      "[Epoch 4/20] Train: 0.0357 | Val 0.0265\n"
     ]
    },
    {
     "name": "stderr",
     "output_type": "stream",
     "text": [
      "Training: 100%|██████████| 6556/6556 [00:57<00:00, 114.93it/s]\n",
      "Validating: 100%|██████████| 2185/2185 [00:19<00:00, 114.97it/s]\n"
     ]
    },
    {
     "name": "stdout",
     "output_type": "stream",
     "text": [
      "[Epoch 5/20] Train: 0.0233 | Val 0.0196\n"
     ]
    },
    {
     "name": "stderr",
     "output_type": "stream",
     "text": [
      "Training: 100%|██████████| 6556/6556 [00:57<00:00, 114.70it/s]\n",
      "Validating: 100%|██████████| 2185/2185 [00:19<00:00, 114.64it/s]\n"
     ]
    },
    {
     "name": "stdout",
     "output_type": "stream",
     "text": [
      "[Epoch 6/20] Train: 0.0208 | Val 0.0175\n"
     ]
    },
    {
     "name": "stderr",
     "output_type": "stream",
     "text": [
      "Training: 100%|██████████| 6556/6556 [00:57<00:00, 114.49it/s]\n",
      "Validating: 100%|██████████| 2185/2185 [00:18<00:00, 115.14it/s]\n"
     ]
    },
    {
     "name": "stdout",
     "output_type": "stream",
     "text": [
      "[Epoch 7/20] Train: 0.0193 | Val 0.0165\n"
     ]
    },
    {
     "name": "stderr",
     "output_type": "stream",
     "text": [
      "Training: 100%|██████████| 6556/6556 [00:57<00:00, 113.97it/s]\n",
      "Validating: 100%|██████████| 2185/2185 [00:19<00:00, 113.61it/s]\n"
     ]
    },
    {
     "name": "stdout",
     "output_type": "stream",
     "text": [
      "[Epoch 8/20] Train: 0.0181 | Val 0.0161\n"
     ]
    },
    {
     "name": "stderr",
     "output_type": "stream",
     "text": [
      "Training: 100%|██████████| 6556/6556 [00:57<00:00, 113.98it/s]\n",
      "Validating: 100%|██████████| 2185/2185 [00:19<00:00, 113.14it/s]\n"
     ]
    },
    {
     "name": "stdout",
     "output_type": "stream",
     "text": [
      "[Epoch 9/20] Train: 0.0176 | Val 0.0157\n"
     ]
    },
    {
     "name": "stderr",
     "output_type": "stream",
     "text": [
      "Training: 100%|██████████| 6556/6556 [00:57<00:00, 113.58it/s]\n",
      "Validating: 100%|██████████| 2185/2185 [00:19<00:00, 113.41it/s]\n"
     ]
    },
    {
     "name": "stdout",
     "output_type": "stream",
     "text": [
      "[Epoch 10/20] Train: 0.0171 | Val 0.0156\n"
     ]
    },
    {
     "name": "stderr",
     "output_type": "stream",
     "text": [
      "Training: 100%|██████████| 6556/6556 [00:57<00:00, 113.10it/s]\n",
      "Validating: 100%|██████████| 2185/2185 [00:19<00:00, 113.11it/s]\n"
     ]
    },
    {
     "name": "stdout",
     "output_type": "stream",
     "text": [
      "[Epoch 11/20] Train: 0.0167 | Val 0.0154\n"
     ]
    },
    {
     "name": "stderr",
     "output_type": "stream",
     "text": [
      "Training: 100%|██████████| 6556/6556 [00:58<00:00, 112.53it/s]\n",
      "Validating: 100%|██████████| 2185/2185 [00:19<00:00, 112.62it/s]\n"
     ]
    },
    {
     "name": "stdout",
     "output_type": "stream",
     "text": [
      "[Epoch 12/20] Train: 0.0167 | Val 0.0151\n"
     ]
    },
    {
     "name": "stderr",
     "output_type": "stream",
     "text": [
      "Training: 100%|██████████| 6556/6556 [00:57<00:00, 113.30it/s]\n",
      "Validating: 100%|██████████| 2185/2185 [00:19<00:00, 113.00it/s]\n"
     ]
    },
    {
     "name": "stdout",
     "output_type": "stream",
     "text": [
      "[Epoch 13/20] Train: 0.0164 | Val 0.0151\n"
     ]
    },
    {
     "name": "stderr",
     "output_type": "stream",
     "text": [
      "Training: 100%|██████████| 6556/6556 [00:57<00:00, 113.36it/s]\n",
      "Validating: 100%|██████████| 2185/2185 [00:19<00:00, 112.78it/s]\n"
     ]
    },
    {
     "name": "stdout",
     "output_type": "stream",
     "text": [
      "[Epoch 14/20] Train: 0.0161 | Val 0.0149\n"
     ]
    },
    {
     "name": "stderr",
     "output_type": "stream",
     "text": [
      "Training: 100%|██████████| 6556/6556 [00:58<00:00, 112.72it/s]\n",
      "Validating: 100%|██████████| 2185/2185 [00:19<00:00, 113.21it/s]\n"
     ]
    },
    {
     "name": "stdout",
     "output_type": "stream",
     "text": [
      "[Epoch 15/20] Train: 0.0164 | Val 0.0146\n"
     ]
    },
    {
     "name": "stderr",
     "output_type": "stream",
     "text": [
      "Training: 100%|██████████| 6556/6556 [00:57<00:00, 114.25it/s]\n",
      "Validating: 100%|██████████| 2185/2185 [00:19<00:00, 113.17it/s]\n"
     ]
    },
    {
     "name": "stdout",
     "output_type": "stream",
     "text": [
      "[Epoch 16/20] Train: 0.0160 | Val 0.0146\n"
     ]
    },
    {
     "name": "stderr",
     "output_type": "stream",
     "text": [
      "Training: 100%|██████████| 6556/6556 [00:58<00:00, 111.84it/s]\n",
      "Validating: 100%|██████████| 2185/2185 [00:19<00:00, 112.12it/s]\n"
     ]
    },
    {
     "name": "stdout",
     "output_type": "stream",
     "text": [
      "[Epoch 17/20] Train: 0.0158 | Val 0.0146\n"
     ]
    },
    {
     "name": "stderr",
     "output_type": "stream",
     "text": [
      "Training: 100%|██████████| 6556/6556 [00:58<00:00, 112.06it/s]\n",
      "Validating: 100%|██████████| 2185/2185 [00:19<00:00, 112.58it/s]\n"
     ]
    },
    {
     "name": "stdout",
     "output_type": "stream",
     "text": [
      "[Epoch 18/20] Train: 0.0158 | Val 0.0144\n"
     ]
    },
    {
     "name": "stderr",
     "output_type": "stream",
     "text": [
      "Training: 100%|██████████| 6556/6556 [00:58<00:00, 111.66it/s]\n",
      "Validating: 100%|██████████| 2185/2185 [00:19<00:00, 112.12it/s]\n"
     ]
    },
    {
     "name": "stdout",
     "output_type": "stream",
     "text": [
      "[Epoch 19/20] Train: 0.0156 | Val 0.0143\n"
     ]
    },
    {
     "name": "stderr",
     "output_type": "stream",
     "text": [
      "Training: 100%|██████████| 6556/6556 [00:59<00:00, 110.92it/s]\n",
      "Validating: 100%|██████████| 2185/2185 [00:19<00:00, 111.65it/s]\n"
     ]
    },
    {
     "name": "stdout",
     "output_type": "stream",
     "text": [
      "[Epoch 20/20] Train: 0.0158 | Val 0.0142\n",
      "Loading dataset into memory...\n"
     ]
    },
    {
     "name": "stderr",
     "output_type": "stream",
     "text": [
      "100%|██████████| 375/375 [00:30<00:00, 12.42it/s]\n"
     ]
    },
    {
     "name": "stdout",
     "output_type": "stream",
     "text": [
      "=================================================================\n",
      "Layer (type:depth-idx)                   Param #\n",
      "=================================================================\n",
      "ResGCN                                   --\n",
      "├─Linear: 1-1                            1,600\n",
      "├─Linear: 1-2                            65\n",
      "├─ModuleList: 1-3                        --\n",
      "│    └─GCNConv: 2-1                      4,160\n",
      "│    └─GCNConv: 2-2                      4,160\n",
      "│    └─GCNConv: 2-3                      4,160\n",
      "│    └─GCNConv: 2-4                      4,160\n",
      "│    └─GCNConv: 2-5                      4,160\n",
      "│    └─GCNConv: 2-6                      4,160\n",
      "│    └─GCNConv: 2-7                      4,160\n",
      "│    └─GCNConv: 2-8                      4,160\n",
      "│    └─GCNConv: 2-9                      4,160\n",
      "│    └─GCNConv: 2-10                     4,160\n",
      "│    └─GCNConv: 2-11                     4,160\n",
      "│    └─GCNConv: 2-12                     4,160\n",
      "│    └─GCNConv: 2-13                     4,160\n",
      "│    └─GCNConv: 2-14                     4,160\n",
      "│    └─GCNConv: 2-15                     4,160\n",
      "│    └─GCNConv: 2-16                     4,160\n",
      "│    └─GCNConv: 2-17                     4,160\n",
      "│    └─GCNConv: 2-18                     4,160\n",
      "│    └─GCNConv: 2-19                     4,160\n",
      "│    └─GCNConv: 2-20                     4,160\n",
      "=================================================================\n",
      "Total params: 84,865\n",
      "Trainable params: 84,865\n",
      "Non-trainable params: 0\n",
      "=================================================================\n"
     ]
    },
    {
     "name": "stderr",
     "output_type": "stream",
     "text": [
      "Graph compilation: 100%|██████████| 100/100 [00:02<00:00]\n"
     ]
    },
    {
     "name": "stdout",
     "output_type": "stream",
     "text": [
      "Training on IPU\n"
     ]
    },
    {
     "name": "stderr",
     "output_type": "stream",
     "text": [
      "Training: 100%|██████████| 6556/6556 [00:55<00:00, 118.88it/s]\n",
      "Validating: 100%|██████████| 2185/2185 [00:18<00:00, 119.91it/s]\n",
      "/usr/local/lib/python3.8/dist-packages/torch/nn/modules/module.py:1432: UserWarning: Positional args are being deprecated, use kwargs instead. Refer to https://pytorch.org/docs/master/generated/torch.nn.Module.html#torch.nn.Module.state_dict for details.\n",
      "  warnings.warn(\n"
     ]
    },
    {
     "name": "stdout",
     "output_type": "stream",
     "text": [
      "[Epoch 1/20] Train: 146.2717 | Val 6.1029\n"
     ]
    },
    {
     "name": "stderr",
     "output_type": "stream",
     "text": [
      "Training: 100%|██████████| 6556/6556 [00:55<00:00, 118.90it/s]\n",
      "Validating: 100%|██████████| 2185/2185 [00:18<00:00, 119.62it/s]\n"
     ]
    },
    {
     "name": "stdout",
     "output_type": "stream",
     "text": [
      "[Epoch 2/20] Train: 0.8243 | Val 0.1150\n"
     ]
    },
    {
     "name": "stderr",
     "output_type": "stream",
     "text": [
      "Training: 100%|██████████| 6556/6556 [00:54<00:00, 119.66it/s]\n",
      "Validating: 100%|██████████| 2185/2185 [00:18<00:00, 118.87it/s]\n"
     ]
    },
    {
     "name": "stdout",
     "output_type": "stream",
     "text": [
      "[Epoch 3/20] Train: 0.1475 | Val 0.0459\n"
     ]
    },
    {
     "name": "stderr",
     "output_type": "stream",
     "text": [
      "Training: 100%|██████████| 6556/6556 [00:57<00:00, 114.66it/s]\n",
      "Validating: 100%|██████████| 2185/2185 [00:18<00:00, 116.02it/s]\n"
     ]
    },
    {
     "name": "stdout",
     "output_type": "stream",
     "text": [
      "[Epoch 4/20] Train: 0.0371 | Val 0.0349\n"
     ]
    },
    {
     "name": "stderr",
     "output_type": "stream",
     "text": [
      "Training: 100%|██████████| 6556/6556 [00:56<00:00, 115.07it/s]\n",
      "Validating: 100%|██████████| 2185/2185 [00:18<00:00, 115.63it/s]\n"
     ]
    },
    {
     "name": "stdout",
     "output_type": "stream",
     "text": [
      "[Epoch 5/20] Train: 0.0244 | Val 0.0258\n"
     ]
    },
    {
     "name": "stderr",
     "output_type": "stream",
     "text": [
      "Training: 100%|██████████| 6556/6556 [00:56<00:00, 116.08it/s]\n",
      "Validating: 100%|██████████| 2185/2185 [00:19<00:00, 114.68it/s]\n"
     ]
    },
    {
     "name": "stdout",
     "output_type": "stream",
     "text": [
      "[Epoch 6/20] Train: 0.0188 | Val 0.0231\n"
     ]
    },
    {
     "name": "stderr",
     "output_type": "stream",
     "text": [
      "Training: 100%|██████████| 6556/6556 [00:56<00:00, 115.96it/s]\n",
      "Validating: 100%|██████████| 2185/2185 [00:18<00:00, 115.02it/s]\n"
     ]
    },
    {
     "name": "stdout",
     "output_type": "stream",
     "text": [
      "[Epoch 7/20] Train: 0.0174 | Val 0.0219\n"
     ]
    },
    {
     "name": "stderr",
     "output_type": "stream",
     "text": [
      "Training: 100%|██████████| 6556/6556 [00:56<00:00, 115.57it/s]\n",
      "Validating: 100%|██████████| 2185/2185 [00:18<00:00, 116.38it/s]\n"
     ]
    },
    {
     "name": "stdout",
     "output_type": "stream",
     "text": [
      "[Epoch 8/20] Train: 0.0165 | Val 0.0207\n"
     ]
    },
    {
     "name": "stderr",
     "output_type": "stream",
     "text": [
      "Training: 100%|██████████| 6556/6556 [00:57<00:00, 114.76it/s]\n",
      "Validating: 100%|██████████| 2185/2185 [00:18<00:00, 115.11it/s]\n"
     ]
    },
    {
     "name": "stdout",
     "output_type": "stream",
     "text": [
      "[Epoch 9/20] Train: 0.0162 | Val 0.0205\n"
     ]
    },
    {
     "name": "stderr",
     "output_type": "stream",
     "text": [
      "Training: 100%|██████████| 6556/6556 [00:57<00:00, 114.85it/s]\n",
      "Validating: 100%|██████████| 2185/2185 [00:18<00:00, 115.82it/s]\n"
     ]
    },
    {
     "name": "stdout",
     "output_type": "stream",
     "text": [
      "[Epoch 10/20] Train: 0.0159 | Val 0.0198\n"
     ]
    },
    {
     "name": "stderr",
     "output_type": "stream",
     "text": [
      "Training: 100%|██████████| 6556/6556 [00:57<00:00, 113.53it/s]\n",
      "Validating: 100%|██████████| 2185/2185 [00:19<00:00, 113.89it/s]\n"
     ]
    },
    {
     "name": "stdout",
     "output_type": "stream",
     "text": [
      "[Epoch 11/20] Train: 0.0157 | Val 0.0196\n"
     ]
    },
    {
     "name": "stderr",
     "output_type": "stream",
     "text": [
      "Training: 100%|██████████| 6556/6556 [00:57<00:00, 114.26it/s]\n",
      "Validating: 100%|██████████| 2185/2185 [00:19<00:00, 114.41it/s]\n"
     ]
    },
    {
     "name": "stdout",
     "output_type": "stream",
     "text": [
      "[Epoch 12/20] Train: 0.0154 | Val 0.0193\n"
     ]
    },
    {
     "name": "stderr",
     "output_type": "stream",
     "text": [
      "Training: 100%|██████████| 6556/6556 [00:56<00:00, 115.17it/s]\n",
      "Validating: 100%|██████████| 2185/2185 [00:18<00:00, 115.15it/s]\n"
     ]
    },
    {
     "name": "stdout",
     "output_type": "stream",
     "text": [
      "[Epoch 13/20] Train: 0.0152 | Val 0.0191\n"
     ]
    },
    {
     "name": "stderr",
     "output_type": "stream",
     "text": [
      "Training: 100%|██████████| 6556/6556 [00:57<00:00, 113.74it/s]\n",
      "Validating: 100%|██████████| 2185/2185 [00:19<00:00, 113.26it/s]\n"
     ]
    },
    {
     "name": "stdout",
     "output_type": "stream",
     "text": [
      "[Epoch 14/20] Train: 0.0152 | Val 0.0187\n"
     ]
    },
    {
     "name": "stderr",
     "output_type": "stream",
     "text": [
      "Training: 100%|██████████| 6556/6556 [00:57<00:00, 113.98it/s]\n",
      "Validating: 100%|██████████| 2185/2185 [00:18<00:00, 115.16it/s]\n"
     ]
    },
    {
     "name": "stdout",
     "output_type": "stream",
     "text": [
      "[Epoch 15/20] Train: 0.0152 | Val 0.0186\n"
     ]
    },
    {
     "name": "stderr",
     "output_type": "stream",
     "text": [
      "Training: 100%|██████████| 6556/6556 [00:57<00:00, 113.17it/s]\n",
      "Validating: 100%|██████████| 2185/2185 [00:19<00:00, 113.17it/s]\n"
     ]
    },
    {
     "name": "stdout",
     "output_type": "stream",
     "text": [
      "[Epoch 16/20] Train: 0.0150 | Val 0.0184\n"
     ]
    },
    {
     "name": "stderr",
     "output_type": "stream",
     "text": [
      "Training: 100%|██████████| 6556/6556 [00:57<00:00, 114.19it/s]\n",
      "Validating: 100%|██████████| 2185/2185 [00:19<00:00, 113.75it/s]\n"
     ]
    },
    {
     "name": "stdout",
     "output_type": "stream",
     "text": [
      "[Epoch 17/20] Train: 0.0148 | Val 0.0184\n"
     ]
    },
    {
     "name": "stderr",
     "output_type": "stream",
     "text": [
      "Training: 100%|██████████| 6556/6556 [00:57<00:00, 113.54it/s]\n",
      "Validating: 100%|██████████| 2185/2185 [00:19<00:00, 113.82it/s]\n"
     ]
    },
    {
     "name": "stdout",
     "output_type": "stream",
     "text": [
      "[Epoch 18/20] Train: 0.0146 | Val 0.0179\n"
     ]
    },
    {
     "name": "stderr",
     "output_type": "stream",
     "text": [
      "Training: 100%|██████████| 6556/6556 [00:57<00:00, 113.09it/s]\n",
      "Validating: 100%|██████████| 2185/2185 [00:19<00:00, 113.01it/s]\n"
     ]
    },
    {
     "name": "stdout",
     "output_type": "stream",
     "text": [
      "[Epoch 19/20] Train: 0.0148 | Val 0.0177\n"
     ]
    },
    {
     "name": "stderr",
     "output_type": "stream",
     "text": [
      "Training: 100%|██████████| 6556/6556 [00:57<00:00, 113.04it/s]\n",
      "Validating: 100%|██████████| 2185/2185 [00:19<00:00, 114.88it/s]\n"
     ]
    },
    {
     "name": "stdout",
     "output_type": "stream",
     "text": [
      "[Epoch 20/20] Train: 0.0145 | Val 0.0175\n",
      "Loading dataset into memory...\n"
     ]
    },
    {
     "name": "stderr",
     "output_type": "stream",
     "text": [
      "100%|██████████| 375/375 [00:29<00:00, 12.53it/s]\n"
     ]
    },
    {
     "name": "stdout",
     "output_type": "stream",
     "text": [
      "=================================================================\n",
      "Layer (type:depth-idx)                   Param #\n",
      "=================================================================\n",
      "ResGCN                                   --\n",
      "├─Linear: 1-1                            1,600\n",
      "├─Linear: 1-2                            65\n",
      "├─ModuleList: 1-3                        --\n",
      "│    └─GCNConv: 2-1                      4,160\n",
      "│    └─GCNConv: 2-2                      4,160\n",
      "│    └─GCNConv: 2-3                      4,160\n",
      "│    └─GCNConv: 2-4                      4,160\n",
      "│    └─GCNConv: 2-5                      4,160\n",
      "│    └─GCNConv: 2-6                      4,160\n",
      "│    └─GCNConv: 2-7                      4,160\n",
      "│    └─GCNConv: 2-8                      4,160\n",
      "│    └─GCNConv: 2-9                      4,160\n",
      "│    └─GCNConv: 2-10                     4,160\n",
      "│    └─GCNConv: 2-11                     4,160\n",
      "│    └─GCNConv: 2-12                     4,160\n",
      "│    └─GCNConv: 2-13                     4,160\n",
      "│    └─GCNConv: 2-14                     4,160\n",
      "│    └─GCNConv: 2-15                     4,160\n",
      "│    └─GCNConv: 2-16                     4,160\n",
      "│    └─GCNConv: 2-17                     4,160\n",
      "│    └─GCNConv: 2-18                     4,160\n",
      "│    └─GCNConv: 2-19                     4,160\n",
      "│    └─GCNConv: 2-20                     4,160\n",
      "=================================================================\n",
      "Total params: 84,865\n",
      "Trainable params: 84,865\n",
      "Non-trainable params: 0\n",
      "=================================================================\n"
     ]
    },
    {
     "name": "stderr",
     "output_type": "stream",
     "text": [
      "Graph compilation: 100%|██████████| 100/100 [00:02<00:00]\n"
     ]
    },
    {
     "name": "stdout",
     "output_type": "stream",
     "text": [
      "Training on IPU\n"
     ]
    },
    {
     "name": "stderr",
     "output_type": "stream",
     "text": [
      "Training: 100%|██████████| 6556/6556 [00:56<00:00, 115.27it/s]\n",
      "Validating: 100%|██████████| 2185/2185 [00:18<00:00, 119.05it/s]\n",
      "/usr/local/lib/python3.8/dist-packages/torch/nn/modules/module.py:1432: UserWarning: Positional args are being deprecated, use kwargs instead. Refer to https://pytorch.org/docs/master/generated/torch.nn.Module.html#torch.nn.Module.state_dict for details.\n",
      "  warnings.warn(\n"
     ]
    },
    {
     "name": "stdout",
     "output_type": "stream",
     "text": [
      "[Epoch 1/20] Train: 158.8675 | Val 2.8054\n"
     ]
    },
    {
     "name": "stderr",
     "output_type": "stream",
     "text": [
      "Training: 100%|██████████| 6556/6556 [00:56<00:00, 117.05it/s]\n",
      "Validating: 100%|██████████| 2185/2185 [00:18<00:00, 116.17it/s]\n"
     ]
    },
    {
     "name": "stdout",
     "output_type": "stream",
     "text": [
      "[Epoch 2/20] Train: 2.3867 | Val 0.6256\n"
     ]
    },
    {
     "name": "stderr",
     "output_type": "stream",
     "text": [
      "Training: 100%|██████████| 6556/6556 [00:56<00:00, 115.30it/s]\n",
      "Validating: 100%|██████████| 2185/2185 [00:18<00:00, 117.87it/s]\n"
     ]
    },
    {
     "name": "stdout",
     "output_type": "stream",
     "text": [
      "[Epoch 3/20] Train: 0.1455 | Val 0.0610\n"
     ]
    },
    {
     "name": "stderr",
     "output_type": "stream",
     "text": [
      "Training: 100%|██████████| 6556/6556 [00:56<00:00, 116.56it/s]\n",
      "Validating: 100%|██████████| 2185/2185 [00:18<00:00, 116.87it/s]\n"
     ]
    },
    {
     "name": "stdout",
     "output_type": "stream",
     "text": [
      "[Epoch 4/20] Train: 0.0494 | Val 0.0288\n"
     ]
    },
    {
     "name": "stderr",
     "output_type": "stream",
     "text": [
      "Training: 100%|██████████| 6556/6556 [00:56<00:00, 116.96it/s]\n",
      "Validating: 100%|██████████| 2185/2185 [00:18<00:00, 115.38it/s]\n"
     ]
    },
    {
     "name": "stdout",
     "output_type": "stream",
     "text": [
      "[Epoch 5/20] Train: 0.0256 | Val 0.0225\n"
     ]
    },
    {
     "name": "stderr",
     "output_type": "stream",
     "text": [
      "Training: 100%|██████████| 6556/6556 [00:55<00:00, 117.38it/s]\n",
      "Validating: 100%|██████████| 2185/2185 [00:18<00:00, 117.58it/s]\n"
     ]
    },
    {
     "name": "stdout",
     "output_type": "stream",
     "text": [
      "[Epoch 6/20] Train: 0.0213 | Val 0.0196\n"
     ]
    },
    {
     "name": "stderr",
     "output_type": "stream",
     "text": [
      "Training: 100%|██████████| 6556/6556 [00:56<00:00, 115.96it/s]\n",
      "Validating: 100%|██████████| 2185/2185 [00:18<00:00, 116.37it/s]\n"
     ]
    },
    {
     "name": "stdout",
     "output_type": "stream",
     "text": [
      "[Epoch 7/20] Train: 0.0186 | Val 0.0187\n"
     ]
    },
    {
     "name": "stderr",
     "output_type": "stream",
     "text": [
      "Training: 100%|██████████| 6556/6556 [00:56<00:00, 115.19it/s]\n",
      "Validating: 100%|██████████| 2185/2185 [00:18<00:00, 116.28it/s]\n"
     ]
    },
    {
     "name": "stdout",
     "output_type": "stream",
     "text": [
      "[Epoch 8/20] Train: 0.0181 | Val 0.0181\n"
     ]
    },
    {
     "name": "stderr",
     "output_type": "stream",
     "text": [
      "Training: 100%|██████████| 6556/6556 [00:56<00:00, 116.43it/s]\n",
      "Validating: 100%|██████████| 2185/2185 [00:18<00:00, 116.66it/s]\n"
     ]
    },
    {
     "name": "stdout",
     "output_type": "stream",
     "text": [
      "[Epoch 9/20] Train: 0.0176 | Val 0.0174\n"
     ]
    },
    {
     "name": "stderr",
     "output_type": "stream",
     "text": [
      "Training: 100%|██████████| 6556/6556 [00:56<00:00, 115.95it/s]\n",
      "Validating: 100%|██████████| 2185/2185 [00:18<00:00, 117.50it/s]\n"
     ]
    },
    {
     "name": "stdout",
     "output_type": "stream",
     "text": [
      "[Epoch 10/20] Train: 0.0168 | Val 0.0172\n"
     ]
    },
    {
     "name": "stderr",
     "output_type": "stream",
     "text": [
      "Training: 100%|██████████| 6556/6556 [00:56<00:00, 115.86it/s]\n",
      "Validating: 100%|██████████| 2185/2185 [00:18<00:00, 115.89it/s]\n"
     ]
    },
    {
     "name": "stdout",
     "output_type": "stream",
     "text": [
      "[Epoch 11/20] Train: 0.0165 | Val 0.0168\n"
     ]
    },
    {
     "name": "stderr",
     "output_type": "stream",
     "text": [
      "Training: 100%|██████████| 6556/6556 [00:56<00:00, 115.61it/s]\n",
      "Validating: 100%|██████████| 2185/2185 [00:18<00:00, 116.45it/s]\n"
     ]
    },
    {
     "name": "stdout",
     "output_type": "stream",
     "text": [
      "[Epoch 12/20] Train: 0.0163 | Val 0.0165\n"
     ]
    },
    {
     "name": "stderr",
     "output_type": "stream",
     "text": [
      "Training: 100%|██████████| 6556/6556 [00:55<00:00, 117.12it/s]\n",
      "Validating: 100%|██████████| 2185/2185 [00:18<00:00, 116.96it/s]\n"
     ]
    },
    {
     "name": "stdout",
     "output_type": "stream",
     "text": [
      "[Epoch 13/20] Train: 0.0162 | Val 0.0163\n"
     ]
    },
    {
     "name": "stderr",
     "output_type": "stream",
     "text": [
      "Training: 100%|██████████| 6556/6556 [00:56<00:00, 115.54it/s]\n",
      "Validating: 100%|██████████| 2185/2185 [00:18<00:00, 116.69it/s]\n"
     ]
    },
    {
     "name": "stdout",
     "output_type": "stream",
     "text": [
      "[Epoch 14/20] Train: 0.0160 | Val 0.0161\n"
     ]
    },
    {
     "name": "stderr",
     "output_type": "stream",
     "text": [
      "Training: 100%|██████████| 6556/6556 [00:56<00:00, 116.23it/s]\n",
      "Validating: 100%|██████████| 2185/2185 [00:18<00:00, 116.37it/s]\n"
     ]
    },
    {
     "name": "stdout",
     "output_type": "stream",
     "text": [
      "[Epoch 15/20] Train: 0.0160 | Val 0.0159\n"
     ]
    },
    {
     "name": "stderr",
     "output_type": "stream",
     "text": [
      "Training: 100%|██████████| 6556/6556 [00:56<00:00, 116.13it/s]\n",
      "Validating: 100%|██████████| 2185/2185 [00:18<00:00, 115.85it/s]\n"
     ]
    },
    {
     "name": "stdout",
     "output_type": "stream",
     "text": [
      "[Epoch 16/20] Train: 0.0157 | Val 0.0156\n"
     ]
    },
    {
     "name": "stderr",
     "output_type": "stream",
     "text": [
      "Training: 100%|██████████| 6556/6556 [00:56<00:00, 116.63it/s]\n",
      "Validating: 100%|██████████| 2185/2185 [00:18<00:00, 117.41it/s]\n"
     ]
    },
    {
     "name": "stdout",
     "output_type": "stream",
     "text": [
      "[Epoch 17/20] Train: 0.0157 | Val 0.0154\n"
     ]
    },
    {
     "name": "stderr",
     "output_type": "stream",
     "text": [
      "Training: 100%|██████████| 6556/6556 [00:56<00:00, 116.43it/s]\n",
      "Validating: 100%|██████████| 2185/2185 [00:18<00:00, 116.27it/s]\n"
     ]
    },
    {
     "name": "stdout",
     "output_type": "stream",
     "text": [
      "[Epoch 18/20] Train: 0.0155 | Val 0.0152\n"
     ]
    },
    {
     "name": "stderr",
     "output_type": "stream",
     "text": [
      "Training: 100%|██████████| 6556/6556 [00:56<00:00, 116.89it/s]\n",
      "Validating: 100%|██████████| 2185/2185 [00:18<00:00, 117.87it/s]\n"
     ]
    },
    {
     "name": "stdout",
     "output_type": "stream",
     "text": [
      "[Epoch 19/20] Train: 0.0155 | Val 0.0151\n"
     ]
    },
    {
     "name": "stderr",
     "output_type": "stream",
     "text": [
      "Training: 100%|██████████| 6556/6556 [00:55<00:00, 117.61it/s]\n",
      "Validating: 100%|██████████| 2185/2185 [00:18<00:00, 118.74it/s]\n"
     ]
    },
    {
     "name": "stdout",
     "output_type": "stream",
     "text": [
      "[Epoch 20/20] Train: 0.0153 | Val 0.0149\n",
      "Loading dataset into memory...\n"
     ]
    },
    {
     "name": "stderr",
     "output_type": "stream",
     "text": [
      "100%|██████████| 375/375 [00:29<00:00, 12.58it/s]\n"
     ]
    },
    {
     "name": "stdout",
     "output_type": "stream",
     "text": [
      "=================================================================\n",
      "Layer (type:depth-idx)                   Param #\n",
      "=================================================================\n",
      "ResGCN                                   748\n",
      "├─Linear: 1-1                            1,600\n",
      "├─Linear: 1-2                            65\n",
      "├─ModuleList: 1-3                        --\n",
      "│    └─GCNConv: 2-1                      4,160\n",
      "│    └─GCNConv: 2-2                      4,160\n",
      "│    └─GCNConv: 2-3                      4,160\n",
      "│    └─GCNConv: 2-4                      4,160\n",
      "│    └─GCNConv: 2-5                      4,160\n",
      "│    └─GCNConv: 2-6                      4,160\n",
      "│    └─GCNConv: 2-7                      4,160\n",
      "│    └─GCNConv: 2-8                      4,160\n",
      "│    └─GCNConv: 2-9                      4,160\n",
      "│    └─GCNConv: 2-10                     4,160\n",
      "│    └─GCNConv: 2-11                     4,160\n",
      "│    └─GCNConv: 2-12                     4,160\n",
      "│    └─GCNConv: 2-13                     4,160\n",
      "│    └─GCNConv: 2-14                     4,160\n",
      "│    └─GCNConv: 2-15                     4,160\n",
      "│    └─GCNConv: 2-16                     4,160\n",
      "│    └─GCNConv: 2-17                     4,160\n",
      "│    └─GCNConv: 2-18                     4,160\n",
      "│    └─GCNConv: 2-19                     4,160\n",
      "│    └─GCNConv: 2-20                     4,160\n",
      "=================================================================\n",
      "Total params: 85,613\n",
      "Trainable params: 85,613\n",
      "Non-trainable params: 0\n",
      "=================================================================\n"
     ]
    },
    {
     "name": "stderr",
     "output_type": "stream",
     "text": [
      "Graph compilation: 100%|██████████| 100/100 [03:00<00:00]\n"
     ]
    },
    {
     "name": "stdout",
     "output_type": "stream",
     "text": [
      "Training on IPU\n"
     ]
    },
    {
     "name": "stderr",
     "output_type": "stream",
     "text": [
      "Training: 100%|██████████| 6556/6556 [01:02<00:00, 104.10it/s]\n",
      "Validating: 100%|██████████| 2185/2185 [00:20<00:00, 104.52it/s]\n",
      "/usr/local/lib/python3.8/dist-packages/torch/nn/modules/module.py:1432: UserWarning: Positional args are being deprecated, use kwargs instead. Refer to https://pytorch.org/docs/master/generated/torch.nn.Module.html#torch.nn.Module.state_dict for details.\n",
      "  warnings.warn(\n"
     ]
    },
    {
     "name": "stdout",
     "output_type": "stream",
     "text": [
      "[Epoch 1/20] Train: 120.2506 | Val 4.8956\n"
     ]
    },
    {
     "name": "stderr",
     "output_type": "stream",
     "text": [
      "Training: 100%|██████████| 6556/6556 [01:03<00:00, 103.92it/s]\n",
      "Validating: 100%|██████████| 2185/2185 [00:21<00:00, 103.97it/s]\n"
     ]
    },
    {
     "name": "stdout",
     "output_type": "stream",
     "text": [
      "[Epoch 2/20] Train: 1.7657 | Val 0.3159\n"
     ]
    },
    {
     "name": "stderr",
     "output_type": "stream",
     "text": [
      "Training: 100%|██████████| 6556/6556 [01:03<00:00, 103.75it/s]\n",
      "Validating: 100%|██████████| 2185/2185 [00:21<00:00, 103.91it/s]\n"
     ]
    },
    {
     "name": "stdout",
     "output_type": "stream",
     "text": [
      "[Epoch 3/20] Train: 0.2343 | Val 0.0754\n"
     ]
    },
    {
     "name": "stderr",
     "output_type": "stream",
     "text": [
      "Training: 100%|██████████| 6556/6556 [01:03<00:00, 103.27it/s]\n",
      "Validating: 100%|██████████| 2185/2185 [00:20<00:00, 104.11it/s]\n"
     ]
    },
    {
     "name": "stdout",
     "output_type": "stream",
     "text": [
      "[Epoch 4/20] Train: 0.0354 | Val 0.0351\n"
     ]
    },
    {
     "name": "stderr",
     "output_type": "stream",
     "text": [
      "Training: 100%|██████████| 6556/6556 [01:05<00:00, 100.13it/s]\n",
      "Validating: 100%|██████████| 2185/2185 [00:21<00:00, 101.01it/s]\n"
     ]
    },
    {
     "name": "stdout",
     "output_type": "stream",
     "text": [
      "[Epoch 5/20] Train: 0.0225 | Val 0.0253\n"
     ]
    },
    {
     "name": "stderr",
     "output_type": "stream",
     "text": [
      "Training: 100%|██████████| 6556/6556 [01:06<00:00, 99.33it/s] \n",
      "Validating: 100%|██████████| 2185/2185 [00:21<00:00, 99.42it/s] \n"
     ]
    },
    {
     "name": "stdout",
     "output_type": "stream",
     "text": [
      "[Epoch 6/20] Train: 0.0185 | Val 0.0229\n"
     ]
    },
    {
     "name": "stderr",
     "output_type": "stream",
     "text": [
      "Training: 100%|██████████| 6556/6556 [01:05<00:00, 99.85it/s] \n",
      "Validating: 100%|██████████| 2185/2185 [00:21<00:00, 99.98it/s] \n"
     ]
    },
    {
     "name": "stdout",
     "output_type": "stream",
     "text": [
      "[Epoch 7/20] Train: 0.0169 | Val 0.0219\n"
     ]
    },
    {
     "name": "stderr",
     "output_type": "stream",
     "text": [
      "Training: 100%|██████████| 6556/6556 [01:05<00:00, 99.90it/s] \n",
      "Validating: 100%|██████████| 2185/2185 [00:21<00:00, 99.88it/s] \n"
     ]
    },
    {
     "name": "stdout",
     "output_type": "stream",
     "text": [
      "[Epoch 8/20] Train: 0.0162 | Val 0.0210\n"
     ]
    },
    {
     "name": "stderr",
     "output_type": "stream",
     "text": [
      "Training: 100%|██████████| 6556/6556 [01:05<00:00, 99.77it/s] \n",
      "Validating: 100%|██████████| 2185/2185 [00:21<00:00, 99.62it/s] \n"
     ]
    },
    {
     "name": "stdout",
     "output_type": "stream",
     "text": [
      "[Epoch 9/20] Train: 0.0158 | Val 0.0202\n"
     ]
    },
    {
     "name": "stderr",
     "output_type": "stream",
     "text": [
      "Training: 100%|██████████| 6556/6556 [01:05<00:00, 100.01it/s]\n",
      "Validating: 100%|██████████| 2185/2185 [00:21<00:00, 100.24it/s]\n"
     ]
    },
    {
     "name": "stdout",
     "output_type": "stream",
     "text": [
      "[Epoch 10/20] Train: 0.0155 | Val 0.0199\n"
     ]
    },
    {
     "name": "stderr",
     "output_type": "stream",
     "text": [
      "Training: 100%|██████████| 6556/6556 [01:05<00:00, 99.70it/s] \n",
      "Validating: 100%|██████████| 2185/2185 [00:21<00:00, 100.63it/s]\n"
     ]
    },
    {
     "name": "stdout",
     "output_type": "stream",
     "text": [
      "[Epoch 11/20] Train: 0.0153 | Val 0.0195\n"
     ]
    },
    {
     "name": "stderr",
     "output_type": "stream",
     "text": [
      "Training: 100%|██████████| 6556/6556 [01:05<00:00, 99.63it/s] \n",
      "Validating: 100%|██████████| 2185/2185 [00:21<00:00, 100.14it/s]\n"
     ]
    },
    {
     "name": "stdout",
     "output_type": "stream",
     "text": [
      "[Epoch 12/20] Train: 0.0151 | Val 0.0192\n"
     ]
    },
    {
     "name": "stderr",
     "output_type": "stream",
     "text": [
      "Training: 100%|██████████| 6556/6556 [01:05<00:00, 100.40it/s]\n",
      "Validating: 100%|██████████| 2185/2185 [00:21<00:00, 100.42it/s]\n"
     ]
    },
    {
     "name": "stdout",
     "output_type": "stream",
     "text": [
      "[Epoch 13/20] Train: 0.0148 | Val 0.0188\n"
     ]
    },
    {
     "name": "stderr",
     "output_type": "stream",
     "text": [
      "Training: 100%|██████████| 6556/6556 [01:05<00:00, 100.07it/s]\n",
      "Validating: 100%|██████████| 2185/2185 [00:21<00:00, 100.28it/s]\n"
     ]
    },
    {
     "name": "stdout",
     "output_type": "stream",
     "text": [
      "[Epoch 14/20] Train: 0.0148 | Val 0.0183\n"
     ]
    },
    {
     "name": "stderr",
     "output_type": "stream",
     "text": [
      "Training: 100%|██████████| 6556/6556 [01:05<00:00, 99.64it/s] \n",
      "Validating: 100%|██████████| 2185/2185 [00:21<00:00, 100.17it/s]\n"
     ]
    },
    {
     "name": "stdout",
     "output_type": "stream",
     "text": [
      "[Epoch 15/20] Train: 0.0147 | Val 0.0182\n"
     ]
    },
    {
     "name": "stderr",
     "output_type": "stream",
     "text": [
      "Training: 100%|██████████| 6556/6556 [01:05<00:00, 100.18it/s]\n",
      "Validating: 100%|██████████| 2185/2185 [00:21<00:00, 100.63it/s]\n"
     ]
    },
    {
     "name": "stdout",
     "output_type": "stream",
     "text": [
      "[Epoch 16/20] Train: 0.0146 | Val 0.0180\n"
     ]
    },
    {
     "name": "stderr",
     "output_type": "stream",
     "text": [
      "Training: 100%|██████████| 6556/6556 [01:04<00:00, 101.35it/s]\n",
      "Validating: 100%|██████████| 2185/2185 [00:21<00:00, 102.20it/s]\n"
     ]
    },
    {
     "name": "stdout",
     "output_type": "stream",
     "text": [
      "[Epoch 17/20] Train: 0.0144 | Val 0.0178\n"
     ]
    },
    {
     "name": "stderr",
     "output_type": "stream",
     "text": [
      "Training: 100%|██████████| 6556/6556 [01:04<00:00, 101.02it/s]\n",
      "Validating: 100%|██████████| 2185/2185 [00:21<00:00, 101.01it/s]\n"
     ]
    },
    {
     "name": "stdout",
     "output_type": "stream",
     "text": [
      "[Epoch 18/20] Train: 0.0143 | Val 0.0174\n"
     ]
    },
    {
     "name": "stderr",
     "output_type": "stream",
     "text": [
      "Training: 100%|██████████| 6556/6556 [01:05<00:00, 100.57it/s]\n",
      "Validating: 100%|██████████| 2185/2185 [00:21<00:00, 101.24it/s]\n"
     ]
    },
    {
     "name": "stdout",
     "output_type": "stream",
     "text": [
      "[Epoch 19/20] Train: 0.0142 | Val 0.0170\n"
     ]
    },
    {
     "name": "stderr",
     "output_type": "stream",
     "text": [
      "Training: 100%|██████████| 6556/6556 [01:04<00:00, 101.16it/s]\n",
      "Validating: 100%|██████████| 2185/2185 [00:21<00:00, 101.43it/s]\n"
     ]
    },
    {
     "name": "stdout",
     "output_type": "stream",
     "text": [
      "[Epoch 20/20] Train: 0.0142 | Val 0.0170\n"
     ]
    }
   ],
   "source": [
    "for value in [\"isolated\", \"binary\", \"stream_length\", \"elevation_difference\", \"average_slope\", \"learned\"]:\n",
    "    HPARAMS[\"model\"][\"adjacency_type\"] = value\n",
    "    dataset = functions.load_dataset(HPARAMS, \"train\")\n",
    "    model = functions.construct_model(HPARAMS, dataset)\n",
    "    history = functions.train(model, dataset, HPARAMS, save_dir=\"runs/adjacency_type_given_bidirectional\", on_ipu=True)"
   ]
  },
  {
   "cell_type": "code",
   "execution_count": 6,
   "metadata": {
    "execution": {
     "iopub.execute_input": "2023-04-19T13:38:12.407102Z",
     "iopub.status.busy": "2023-04-19T13:38:12.406911Z",
     "iopub.status.idle": "2023-04-19T13:38:12.554605Z",
     "shell.execute_reply": "2023-04-19T13:38:12.553935Z",
     "shell.execute_reply.started": "2023-04-19T13:38:12.407083Z"
    },
    "id": "d7WXkpJ26Ek0"
   },
   "outputs": [
    {
     "data": {
      "image/png": "[encoded data removed]",
      "text/plain": [
       "<Figure size 432x288 with 1 Axes>"
      ]
     },
     "metadata": {
      "needs_background": "light"
     },
     "output_type": "display_data"
    },
    {
     "name": "stdout",
     "output_type": "stream",
     "text": [
      "[Epoch 20] Train: 0.0142 | Val: 0.0170\n"
     ]
    }
   ],
   "source": [
    "functions.plot_loss(history[\"train_loss\"], history[\"val_loss\"])"
   ]
  }
 ],
 "metadata": {
  "accelerator": "GPU",
  "colab": {
   "provenance": []
  },
  "gpuClass": "standard",
  "kernelspec": {
   "display_name": "Python 3",
   "language": "python",
   "name": "python3"
  },
  "language_info": {
   "codemirror_mode": {
    "name": "ipython",
    "version": 3
   },
   "file_extension": ".py",
   "mimetype": "text/x-python",
   "name": "python",
   "nbconvert_exporter": "python",
   "pygments_lexer": "ipython3",
   "version": "3.8.10"
  }
 },
 "nbformat": 4,
 "nbformat_minor": 4
}
